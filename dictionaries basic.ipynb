{
 "cells": [
  {
   "cell_type": "markdown",
   "metadata": {},
   "source": [
    "# Name: Muhammad Musa \n",
    "# Email: muhammadmusaimran18.10e@gmail.com\n",
    "______________________________________________________________________________________________________________________________________________"
   ]
  },
  {
   "cell_type": "markdown",
   "metadata": {},
   "source": [
    "1. Merge Two Dictionaries:\n",
    "o Write a Python program that demonstrates three different methods for\n",
    "merging two dictionaries.\n",
    "▪ First, use the update() method to merge the dictionaries,\n",
    "explaining how this method modifies the first dictionary in place.\n",
    "▪ Second, use the ** operator to merge the dictionaries,\n",
    "highlighting how this method creates a new dictionary without\n",
    "altering the original ones.\n",
    "▪ Third, utilize the | operator (available in Python 3.9 and later) to\n",
    "combine the dictionaries and discuss how it also creates a new\n",
    "dictionary."
   ]
  },
  {
   "cell_type": "code",
   "execution_count": 5,
   "metadata": {},
   "outputs": [
    {
     "name": "stdout",
     "output_type": "stream",
     "text": [
      "{'salary_emp1': 5000, 'salary_emp2': 5000, 'salary_emp3': 8000, 'salary_emp4': 3000, 'salary_emp5': 8000, 'salary_emp6': 9000}\n"
     ]
    }
   ],
   "source": [
    "dic1={\"salary_emp1\":5000,\"salary_emp2\":5000,\"salary_emp3\":8000}\n",
    "dic2={\"salary_emp4\":3000,\"salary_emp5\":8000,\"salary_emp6\":9000}\n",
    "\n",
    "dic1.update(dic2)\n",
    "print(dic1)"
   ]
  },
  {
   "cell_type": "code",
   "execution_count": 6,
   "metadata": {},
   "outputs": [
    {
     "name": "stdout",
     "output_type": "stream",
     "text": [
      "{'salary_emp1': 5000, 'salary_emp2': 5000, 'salary_emp3': 8000, 'salary_emp4': 3000, 'salary_emp5': 8000, 'salary_emp6': 9000}\n"
     ]
    }
   ],
   "source": [
    "dic1={\"salary_emp1\":5000,\"salary_emp2\":5000,\"salary_emp3\":8000}\n",
    "dic2={\"salary_emp4\":3000,\"salary_emp5\":8000,\"salary_emp6\":9000}\n",
    "\n",
    "dic3={**dic1,**dic2}\n",
    "print(dic3)"
   ]
  },
  {
   "cell_type": "code",
   "execution_count": 8,
   "metadata": {},
   "outputs": [
    {
     "name": "stdout",
     "output_type": "stream",
     "text": [
      "{'salary_emp1': 5000, 'salary_emp2': 5000, 'salary_emp3': 8000, 'salary_emp4': 3000, 'salary_emp5': 8000, 'salary_emp6': 9000}\n"
     ]
    }
   ],
   "source": [
    "dic1={\"salary_emp1\":5000,\"salary_emp2\":5000,\"salary_emp3\":8000}\n",
    "dic2={\"salary_emp4\":3000,\"salary_emp5\":8000,\"salary_emp6\":9000}\n",
    "\n",
    "dict3=dic1|dic2\n",
    "print(dict3)"
   ]
  },
  {
   "cell_type": "markdown",
   "metadata": {},
   "source": [
    "2. Calculate the Sum of Dictionary Values:\n",
    "o Create a Python program that calculates the sum of all values in a given\n",
    "dictionary. Use the built-in sum() function to add the values, and ensure\n",
    "to demonstrate the extraction of the values from the dictionary using the\n",
    "values() method. Provide an example dictionary and display the result."
   ]
  },
  {
   "cell_type": "code",
   "execution_count": 10,
   "metadata": {},
   "outputs": [
    {
     "name": "stdout",
     "output_type": "stream",
     "text": [
      "the sum of all the emp salary in dic1 is:  38000\n"
     ]
    }
   ],
   "source": [
    "dic1={\"salary_emp1\":5000,\"salary_emp2\":5000,\"salary_emp3\":8000}\n",
    "dic2={\"salary_emp4\":3000,\"salary_emp5\":8000,\"salary_emp6\":9000}\n",
    "\n",
    "dic1.update(dic2)\n",
    "\n",
    "print(\"the sum of all the emp salary in dic1 is: \",sum(dic1.values()))"
   ]
  },
  {
   "cell_type": "markdown",
   "metadata": {},
   "source": [
    "3. Remove Duplicate Words from a Sentence:\n",
    "o Write a Python program that takes a given sentence as input and\n",
    "removes all duplicate words, preserving the original order of their first\n",
    "occurrence. You can use appropriate additional data structures if\n",
    "needed, such as a list or set, to achieve this. Output the modified\n",
    "sentence without duplicates."
   ]
  },
  {
   "cell_type": "code",
   "execution_count": 11,
   "metadata": {},
   "outputs": [
    {
     "name": "stdout",
     "output_type": "stream",
     "text": [
      "This is a test sentence and this only\n"
     ]
    }
   ],
   "source": [
    "# sentence=input(\"enter the sentence: \")\n",
    "sentence=\"This is a test sentence and this is only a test\"\n",
    "words = sentence.split()\n",
    "unique_words = []\n",
    "seen = set()\n",
    "\n",
    "for word in words:\n",
    "    if word not in seen:\n",
    "        unique_words.append(word)\n",
    "        seen.add(word)\n",
    "        \n",
    "new_sentence=\" \".join(unique_words)\n",
    "print(new_sentence)        "
   ]
  },
  {
   "cell_type": "markdown",
   "metadata": {},
   "source": [
    "4. Reverse the Order of Dictionary Keys:\n",
    "o Develop a Python program that reverses the order of keys in a dictionary.\n",
    "Use the reversed() function along with the dictionary’s items() method\n",
    "to achieve this. Ensure to create a new dictionary that maintains the\n",
    "reversed order of the keys while preserving their associated values, and\n",
    "then display the resulting dictionary.\n"
   ]
  },
  {
   "cell_type": "code",
   "execution_count": 16,
   "metadata": {},
   "outputs": [
    {
     "name": "stdout",
     "output_type": "stream",
     "text": [
      "{'salary_emp3': 8000, 'salary_emp2': 5000, 'salary_emp1': 5000}\n"
     ]
    }
   ],
   "source": [
    "dic1={\"salary_emp1\":5000,\"salary_emp2\":5000,\"salary_emp3\":8000}\n",
    "dic2={\"salary_emp4\":3000,\"salary_emp5\":8000,\"salary_emp6\":9000}\n",
    "\n",
    "dic3=list(reversed(dic1.items()))\n",
    "dic3=dict(dic3)\n",
    "print(dic3)"
   ]
  }
 ],
 "metadata": {
  "kernelspec": {
   "display_name": "base",
   "language": "python",
   "name": "python3"
  },
  "language_info": {
   "codemirror_mode": {
    "name": "ipython",
    "version": 3
   },
   "file_extension": ".py",
   "mimetype": "text/x-python",
   "name": "python",
   "nbconvert_exporter": "python",
   "pygments_lexer": "ipython3",
   "version": "3.12.7"
  }
 },
 "nbformat": 4,
 "nbformat_minor": 2
}
