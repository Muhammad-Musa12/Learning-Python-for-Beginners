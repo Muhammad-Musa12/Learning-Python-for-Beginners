{
 "cells": [
  {
   "cell_type": "markdown",
   "metadata": {},
   "source": [
    "# Name: Muhammad Musa \n",
    "# Email: muhammadmusaimran18.10e@gmail.com\n",
    "______________________________________________________________________________________________________________________________________________"
   ]
  },
  {
   "cell_type": "markdown",
   "metadata": {},
   "source": [
    "# File Handling\n",
    "The key function for working with files in Python is the open() function.\n",
    "\n",
    "The open() function takes two parameters; filename, and mode.\n",
    "\n",
    "There are four different methods (modes) for opening a file:\n",
    "\n",
    "\"r\" - Read - Default value. Opens a file for reading, error if the file does not exist\n",
    "\n",
    "\"a\" - Append - Opens a file for appending, creates the file if it does not exist\n",
    "\n",
    "\"w\" - Write - Opens a file for writing, creates the file if it does not exist\n",
    "\n",
    "\"x\" - Create - Creates the specified file, returns an error if the file exists\n",
    "\n",
    "In addition you can specify if the file should be handled as binary or text mode\n",
    "\n",
    "\"t\" - Text - Default value. Text mode\n",
    "\n",
    "\"b\" - Binary - Binary mode (e.g. images)\n",
    "\n",
    "## Syntax\n",
    "To open a file for reading it is enough to specify the name of the file:\n",
    "\n",
    "f = open(\"demofile.txt\")\n",
    "The code above is the same as:\n",
    "\n",
    "f = open(\"demofile.txt\", \"rt\")\n",
    "\n",
    "Because \"r\" for read, and \"t\" for text are the default values, you do not need to specify them."
   ]
  },
  {
   "cell_type": "markdown",
   "metadata": {},
   "source": [
    "# create\n"
   ]
  },
  {
   "cell_type": "code",
   "execution_count": 1,
   "metadata": {},
   "outputs": [],
   "source": [
    "f = open(\"mytesting.txt\", \"x\")\n"
   ]
  },
  {
   "cell_type": "markdown",
   "metadata": {},
   "source": [
    "# open and append in writting"
   ]
  },
  {
   "cell_type": "code",
   "execution_count": 2,
   "metadata": {},
   "outputs": [],
   "source": [
    "with open(\"mytesting.txt\", \"a\") as f:\n",
    "  f.write(\"Now the file has more content!\")\n",
    "  f.write(\"\"\"\n",
    "Lorem ipsum dolor sit amet consectetur adipisicing elit. Doloremque asperiores hic non laborum libero laudantium maiores voluptas itaque natus commodi eum, laboriosam quia assumenda tempore recusandae ipsam optio quam officiis eveniet et, ratione dignissimos! Doloremque quis asperiores ullam impedit vel quo officiis error commodi, cupiditate sunt soluta consectetur temporibus magnam.\"\"\")"
   ]
  },
  {
   "cell_type": "markdown",
   "metadata": {},
   "source": [
    "# open and read"
   ]
  },
  {
   "cell_type": "code",
   "execution_count": 3,
   "metadata": {},
   "outputs": [
    {
     "name": "stdout",
     "output_type": "stream",
     "text": [
      "Now the file has more content!\n",
      "Lorem ipsum dolor sit amet consectetur adipisicing elit. Doloremque asperiores hic non laborum libero laudantium maiores voluptas itaque natus commodi eum, laboriosam quia assumenda tempore recusandae ipsam optio quam officiis eveniet et, ratione dignissimos! Doloremque quis asperiores ullam impedit vel quo officiis error commodi, cupiditate sunt soluta consectetur temporibus magnam.\n"
     ]
    }
   ],
   "source": [
    "f = open(\"mytesting.txt\")\n",
    "print(f.read())"
   ]
  },
  {
   "cell_type": "markdown",
   "metadata": {},
   "source": [
    "# open and complete overwrite"
   ]
  },
  {
   "cell_type": "code",
   "execution_count": 4,
   "metadata": {},
   "outputs": [],
   "source": [
    "with open(\"mytesting.txt\", \"w\") as f:\n",
    "  f.write(\"hahaha!!!!\")\n"
   ]
  },
  {
   "cell_type": "code",
   "execution_count": 5,
   "metadata": {},
   "outputs": [
    {
     "name": "stdout",
     "output_type": "stream",
     "text": [
      "hahaha!!!!\n"
     ]
    }
   ],
   "source": [
    "f = open(\"mytesting.txt\")\n",
    "print(f.read())"
   ]
  },
  {
   "cell_type": "markdown",
   "metadata": {},
   "source": [
    "# Read Only Parts of the File\n",
    "By default the read() method returns the whole text, but you can also specify how many characters you want to return:\n",
    "\n",
    "Example\n",
    "Return the 5 first characters of the file:"
   ]
  },
  {
   "cell_type": "code",
   "execution_count": 7,
   "metadata": {},
   "outputs": [],
   "source": [
    "with open(\"mytesting.txt\", \"a\") as f:\n",
    "  f.write(\"Now the file has more content!\")\n",
    "  f.write(\"\"\"\n",
    "Lorem ipsum dolor sit amet consectetur adipisicing elit. Doloremque asperiores hic non laborum libero laudantium maiores voluptas itaque natus commodi eum, laboriosam quia assumenda tempore recusandae ipsam optio quam officiis eveniet et, ratione dignissimos! Doloremque quis asperiores ullam impedit vel quo officiis error commodi, cupiditate sunt soluta consectetur temporibus magnam.\"\"\")"
   ]
  },
  {
   "cell_type": "code",
   "execution_count": 9,
   "metadata": {},
   "outputs": [
    {
     "name": "stdout",
     "output_type": "stream",
     "text": [
      "hahah\n"
     ]
    }
   ],
   "source": [
    "with open(\"mytesting.txt\") as f:\n",
    "  print(f.read(5))"
   ]
  },
  {
   "cell_type": "markdown",
   "metadata": {},
   "source": [
    "# Read Lines\n",
    "You can return one line by using the readline() method:\n",
    "\n",
    "Example\n",
    "Read one line of the file:"
   ]
  },
  {
   "cell_type": "code",
   "execution_count": 11,
   "metadata": {},
   "outputs": [
    {
     "name": "stdout",
     "output_type": "stream",
     "text": [
      "hahaha!!!!Now the file has more content!\n",
      "\n"
     ]
    }
   ],
   "source": [
    "with open(\"mytesting.txt\") as f:\n",
    "  print(f.readline())"
   ]
  },
  {
   "cell_type": "markdown",
   "metadata": {},
   "source": [
    "# By calling readline() two times, you can read the two first lines:"
   ]
  },
  {
   "cell_type": "code",
   "execution_count": 12,
   "metadata": {},
   "outputs": [
    {
     "name": "stdout",
     "output_type": "stream",
     "text": [
      "hahaha!!!!Now the file has more content!\n",
      "\n",
      "Lorem ipsum dolor sit amet consectetur adipisicing elit. Doloremque asperiores hic non laborum libero laudantium maiores voluptas itaque natus commodi eum, laboriosam quia assumenda tempore recusandae ipsam optio quam officiis eveniet et, ratione dignissimos! Doloremque quis asperiores ullam impedit vel quo officiis error commodi, cupiditate sunt soluta consectetur temporibus magnam.\n"
     ]
    }
   ],
   "source": [
    "with open(\"mytesting.txt\") as f:\n",
    "  print(f.readline())\n",
    "  print(f.readline())\n",
    "  "
   ]
  },
  {
   "cell_type": "markdown",
   "metadata": {},
   "source": [
    "# By looping through the lines of the file, you can read the whole file, line by line:"
   ]
  },
  {
   "cell_type": "code",
   "execution_count": 14,
   "metadata": {},
   "outputs": [
    {
     "name": "stdout",
     "output_type": "stream",
     "text": [
      "hahaha!!!!Now the file has more content!\n",
      "\n",
      "Lorem ipsum dolor sit amet consectetur adipisicing elit. Doloremque asperiores hic non laborum libero laudantium maiores voluptas itaque natus commodi eum, laboriosam quia assumenda tempore recusandae ipsam optio quam officiis eveniet et, ratione dignissimos! Doloremque quis asperiores ullam impedit vel quo officiis error commodi, cupiditate sunt soluta consectetur temporibus magnam.\n"
     ]
    }
   ],
   "source": [
    "with open(\"mytesting.txt\") as f:\n",
    "  for x in f:\n",
    "    print(x)"
   ]
  },
  {
   "cell_type": "markdown",
   "metadata": {},
   "source": [
    "# File Handling\n",
    "1. Task: Write a program to read a text file and count the number of lines, words, and\n",
    "characters.\n",
    "2. Task: Create a program that writes user input to a file until the user types \"exit\"."
   ]
  },
  {
   "cell_type": "code",
   "execution_count": 15,
   "metadata": {},
   "outputs": [
    {
     "name": "stdout",
     "output_type": "stream",
     "text": [
      "Lines: 2\n",
      "Words: 56\n",
      "Characters: 427\n"
     ]
    }
   ],
   "source": [
    "with open(\"mytesting.txt\", \"r\") as file:\n",
    "    lines = file.readlines()\n",
    "    line_count = len(lines)\n",
    "    word_count = sum(len(line.split()) for line in lines)\n",
    "    char_count = sum(len(line) for line in lines)\n",
    "\n",
    "print(\"Lines:\", line_count)\n",
    "print(\"Words:\", word_count)\n",
    "print(\"Characters:\", char_count)\n"
   ]
  },
  {
   "cell_type": "code",
   "execution_count": 21,
   "metadata": {},
   "outputs": [],
   "source": [
    "with open(\"mytesting.txt\", \"w\") as file:\n",
    "    while True:\n",
    "        text = input(\"Enter text (type 'exit' to stop): \")\n",
    "        if text.lower() == \"exit\":\n",
    "            break\n",
    "        file.write(text + \"\\n\")\n"
   ]
  },
  {
   "cell_type": "code",
   "execution_count": 22,
   "metadata": {},
   "outputs": [
    {
     "name": "stdout",
     "output_type": "stream",
     "text": [
      "i \n",
      "am \n",
      "going\n",
      "to  \n",
      "write\n",
      "exiting \n",
      "\n"
     ]
    }
   ],
   "source": [
    "with open(\"mytesting.txt\",\"r\") as f:\n",
    "    print(f.read())"
   ]
  },
  {
   "cell_type": "markdown",
   "metadata": {},
   "source": [
    "# Exception Handling\n",
    "3. Task: Write a program that takes an integer input from the user and handles potential\n",
    "exceptions (e.g., ValueError, ZeroDivisionError)."
   ]
  },
  {
   "cell_type": "code",
   "execution_count": 26,
   "metadata": {},
   "outputs": [
    {
     "name": "stdout",
     "output_type": "stream",
     "text": [
      "invalid literal for int() with base 10: '1.2'\n",
      "Invalid input! Please enter an integer.\n",
      "invalid literal for int() with base 10: '5.2'\n",
      "Invalid input! Please enter an integer.\n",
      "division by zero\n",
      "Cannot divide by zero.\n",
      "division by zero\n",
      "Cannot divide by zero.\n",
      "Result: 2.0\n"
     ]
    }
   ],
   "source": [
    "while True:\n",
    "    try:\n",
    "        num = int(input(\"Enter a number: \"))\n",
    "        result = 10 / num\n",
    "        print(\"Result:\", result)\n",
    "        break\n",
    "    except ValueError as i:\n",
    "        print(i)\n",
    "        print(\"Invalid input! Please enter an integer.\")\n",
    "    except ZeroDivisionError as a:\n",
    "        print(a)\n",
    "        print(\"Cannot divide by zero.\")\n"
   ]
  },
  {
   "cell_type": "markdown",
   "metadata": {},
   "source": [
    "# Classes and Objects\n",
    "4. Task: Create a class Car with instance variables for make, model, and year. Implement\n",
    "a method to display the car's details."
   ]
  },
  {
   "cell_type": "code",
   "execution_count": 27,
   "metadata": {},
   "outputs": [
    {
     "name": "stdout",
     "output_type": "stream",
     "text": [
      "2025 honda T0156\n"
     ]
    }
   ],
   "source": [
    "class Car:\n",
    "    def __init__(self, make, model, year):\n",
    "        self.make = make\n",
    "        self.model = model\n",
    "        self.year = year\n",
    "\n",
    "    def display_details(self):\n",
    "        print(f\"{self.year} {self.make} {self.model}\")\n",
    "\n",
    "c=Car(\"honda\",\"T0156\",2025)\n",
    "\n",
    "c.display_details()"
   ]
  },
  {
   "cell_type": "markdown",
   "metadata": {},
   "source": [
    "# Instance Variables and Methods\n",
    "5. Task: Add methods to the Car class to update and retrieve the values of instance\n",
    "variables."
   ]
  },
  {
   "cell_type": "code",
   "execution_count": 28,
   "metadata": {},
   "outputs": [
    {
     "name": "stdout",
     "output_type": "stream",
     "text": [
      "The value of the year will be displayed by x: 2025\n"
     ]
    }
   ],
   "source": [
    "class Car:\n",
    "    def __init__(self, make, model, year):\n",
    "        self.make = make\n",
    "        self.model = model\n",
    "        self.year = year\n",
    "\n",
    "    def update_year(self, year):\n",
    "        self.year = year\n",
    "\n",
    "    def get_year(self):\n",
    "        return self.year\n",
    "\n",
    "c=Car(\"honda\",\"T0156\",2025)\n",
    "x=c.get_year()\n",
    "\n",
    "print(\"The value of the year will be displayed by x:\",x)"
   ]
  },
  {
   "cell_type": "markdown",
   "metadata": {},
   "source": [
    "# Class Variables and Functions\n",
    "6. Task: Add a class variable number_of_cars to the Car class and implement a class\n",
    "method to return the total number of car instances created."
   ]
  },
  {
   "cell_type": "code",
   "execution_count": 1,
   "metadata": {},
   "outputs": [
    {
     "name": "stdout",
     "output_type": "stream",
     "text": [
      "The number of cars are called through the class method 3\n"
     ]
    }
   ],
   "source": [
    "class Car:\n",
    "    number_of_cars = 0\n",
    "\n",
    "    def __init__(self, make, model, year):\n",
    "        Car.number_of_cars += 1\n",
    "        self.make = make\n",
    "        self.model = model\n",
    "        self.year = year\n",
    "\n",
    "    @classmethod\n",
    "    def get_total_cars(cls):\n",
    "        return cls.number_of_cars\n",
    "\n",
    "\n",
    "c1=Car(\"HONDA\",\"T015\",2025)\n",
    "c2=Car(\"HONDA\",\"T016\",2024)\n",
    "c3=Car(\"TYOTA\",\"T017\",2023)\n",
    "\n",
    "print(\"The number of cars are called through the class method\",Car.get_total_cars())"
   ]
  },
  {
   "cell_type": "markdown",
   "metadata": {},
   "source": [
    "# Constructors and Destructors\n",
    "7. Task: Modify the Car class to include a constructor that initializes instance variables,\n",
    "and implement a destructor that prints a message when a car object is deleted."
   ]
  },
  {
   "cell_type": "code",
   "execution_count": 2,
   "metadata": {},
   "outputs": [
    {
     "name": "stdout",
     "output_type": "stream",
     "text": [
      "Total Car objects: 3\n",
      "Car deleted: HONDA T016 of year: 2024\n",
      "Total Car objects after deleting one: 2\n"
     ]
    }
   ],
   "source": [
    "class Car:\n",
    "    _total_objects = 0  \n",
    "\n",
    "    def __init__(self, make, model, year):\n",
    "        self.make = make\n",
    "        self.model = model\n",
    "        self.year = year\n",
    "        Car._total_objects += 1\n",
    "\n",
    "    def __del__(self):\n",
    "        print(f\"Car deleted: {self.make} {self.model} of year: {self.year}\")\n",
    "        Car._total_objects -= 1\n",
    "\n",
    "    @classmethod\n",
    "    def total_objects(cls):\n",
    "        return cls._total_objects\n",
    "\n",
    "\n",
    "\n",
    "c1 = Car(\"HONDA\", \"T015\", 2025)\n",
    "c2 = Car(\"HONDA\", \"T016\", 2024)\n",
    "c3 = Car(\"TOYOTA\", \"T017\", 2023)\n",
    "\n",
    "print(f\"Total Car objects: {Car.total_objects()}\")\n",
    "\n",
    "del c2\n",
    "\n",
    "print(f\"Total Car objects after deleting one: {Car.total_objects()}\")\n"
   ]
  },
  {
   "cell_type": "markdown",
   "metadata": {},
   "source": [
    "# Inheritance\n",
    "8. Task: Create a base class Animal with a method speak(). Derive classes Dog and Cat\n",
    "that override speak()."
   ]
  },
  {
   "cell_type": "code",
   "execution_count": 5,
   "metadata": {},
   "outputs": [
    {
     "name": "stdout",
     "output_type": "stream",
     "text": [
      "Id is: 101\n",
      "Color: Black\n",
      "Cat speaks: Meow!\n",
      "Id is: 202\n",
      "Breed: Labrador\n",
      "Dog speaks: Woof!\n"
     ]
    }
   ],
   "source": [
    "class Animal:\n",
    "    def __init__(self):\n",
    "        self.__id = None  \n",
    "        self.age = None\n",
    "\n",
    "    def set_id(self, i):\n",
    "        self.__id = i\n",
    "\n",
    "    def show_id(self):\n",
    "        print(f\"Id is: {self.__id}\")\n",
    "\n",
    "    def speak(self):\n",
    "        print(\"animal voice\")\n",
    "\n",
    "\n",
    "class Cat(Animal):\n",
    "    def __init__(self):\n",
    "        super().__init__()\n",
    "        self.color = None\n",
    "\n",
    "    def set_color(self, color):\n",
    "        self.color = color\n",
    "\n",
    "    def show_cat_details(self):\n",
    "        self.show_id()\n",
    "        print(f\"Color: {self.color}\")\n",
    "\n",
    "    def speak(self):\n",
    "        return \"Meow!\"\n",
    "\n",
    "\n",
    "class Dog(Animal):\n",
    "    def __init__(self):\n",
    "        super().__init__()\n",
    "        self.breed = None\n",
    "\n",
    "    def set_breed(self, breed):\n",
    "        self.breed = breed\n",
    "\n",
    "    def show_dog_details(self):\n",
    "        self.show_id()\n",
    "        print(f\"Breed: {self.breed}\")\n",
    "\n",
    "    def speak(self):\n",
    "        return \"Woof!\"\n",
    "\n",
    "\n",
    "\n",
    "c = Cat()\n",
    "d = Dog()\n",
    "\n",
    "c.set_id(101)\n",
    "c.set_color(\"Black\")\n",
    "d.set_id(202)\n",
    "d.set_breed(\"Labrador\")\n",
    "\n",
    "c.show_cat_details()\n",
    "print(f\"Cat speaks: {c.speak()}\")\n",
    "d.show_dog_details()\n",
    "print(f\"Dog speaks: {d.speak()}\")\n"
   ]
  },
  {
   "cell_type": "markdown",
   "metadata": {},
   "source": [
    "#  Multilevel Inheritance\n",
    "9. Task: Create a class Vehicle, then derive Car from Vehicle, and ElectricCar from Car.\n",
    "Implement a method in each class."
   ]
  },
  {
   "cell_type": "code",
   "execution_count": 6,
   "metadata": {},
   "outputs": [
    {
     "name": "stdout",
     "output_type": "stream",
     "text": [
      "I am the default constructor of Vehicle\n",
      "I am the default constructor of Car\n",
      "I am the default constructor of ElectricCar\n",
      "This is a vehicle.\n",
      "This is a car.\n",
      "This is an electric car.\n"
     ]
    }
   ],
   "source": [
    "class Vehicle:\n",
    "    def __init__(self):\n",
    "        print(\"I am the default constructor of Vehicle\")\n",
    "\n",
    "    def show_info(self):\n",
    "        print(\"This is a vehicle.\")\n",
    "\n",
    "class Car(Vehicle):\n",
    "    def __init__(self):\n",
    "        super().__init__()  \n",
    "        print(\"I am the default constructor of Car\")\n",
    "\n",
    "    def show_info(self):\n",
    "        super().show_info()  \n",
    "        print(\"This is a car.\")\n",
    "\n",
    "class ElectricCar(Car):\n",
    "    def __init__(self):\n",
    "        super().__init__()  \n",
    "        print(\"I am the default constructor of ElectricCar\")\n",
    "\n",
    "    def show_info(self):\n",
    "        super().show_info()  \n",
    "        print(\"This is an electric car.\")\n",
    "\n",
    "electric_car = ElectricCar()\n",
    "electric_car.show_info()\n"
   ]
  },
  {
   "cell_type": "code",
   "execution_count": 7,
   "metadata": {},
   "outputs": [
    {
     "name": "stdout",
     "output_type": "stream",
     "text": [
      "I am the default constructor of Vehicle\n",
      "I am the default constructor of Car\n",
      "I am the default constructor of ElectricCar\n",
      "Vehicle Make: 2025, Model: T0213\n",
      "Number of doors: 4\n",
      "Battery capacity: 500000.0 kWh\n"
     ]
    }
   ],
   "source": [
    "class Vehicle:\n",
    "    def __init__(self):\n",
    "        print(\"I am the default constructor of Vehicle\")\n",
    "        self.make = input(\"Enter vehicle make: \")\n",
    "        self.model = input(\"Enter vehicle model: \")\n",
    "\n",
    "    def show_info(self):\n",
    "        print(f\"Vehicle Make: {self.make}, Model: {self.model}\")\n",
    "\n",
    "\n",
    "class Car(Vehicle):\n",
    "    def __init__(self):\n",
    "        super().__init__()  \n",
    "        print(\"I am the default constructor of Car\")\n",
    "        self.num_doors = int(input(\"Enter number of doors: \"))\n",
    "\n",
    "    def show_info(self):\n",
    "        super().show_info()  \n",
    "        print(f\"Number of doors: {self.num_doors}\")\n",
    "\n",
    "\n",
    "class ElectricCar(Car):\n",
    "    def __init__(self):\n",
    "        super().__init__()  \n",
    "        print(\"I am the default constructor of ElectricCar\")\n",
    "        self.battery_capacity = float(input(\"Enter battery capacity (kWh): \"))\n",
    "\n",
    "    def show_info(self):\n",
    "        super().show_info()  \n",
    "        print(f\"Battery capacity: {self.battery_capacity} kWh\")\n",
    "\n",
    "\n",
    "electric_car = ElectricCar()\n",
    "electric_car.show_info()\n",
    "\n"
   ]
  },
  {
   "cell_type": "code",
   "execution_count": 9,
   "metadata": {},
   "outputs": [
    {
     "name": "stdout",
     "output_type": "stream",
     "text": [
      "This is a vehicle.\n",
      "This is a car, derived from Vehicle.\n",
      "This is an electric car, derived from Car.\n"
     ]
    }
   ],
   "source": [
    "class Vehicle:\n",
    "    def vehicle_info(self):\n",
    "        return \"This is a vehicle.\"\n",
    "\n",
    "class Car(Vehicle):\n",
    "    def car_info(self):\n",
    "        return \"This is a car, derived from Vehicle.\"\n",
    "\n",
    "class ElectricCar(Car):\n",
    "    def electric_car_info(self):\n",
    "        return \"This is an electric car, derived from Car.\"\n",
    "\n",
    "\n",
    "ev = ElectricCar()\n",
    "print(ev.vehicle_info())       # Method from Vehicle\n",
    "print(ev.car_info())           # Method from Car\n",
    "print(ev.electric_car_info()) # Method from ElectricCar\n"
   ]
  },
  {
   "cell_type": "markdown",
   "metadata": {},
   "source": [
    "# "
   ]
  },
  {
   "cell_type": "markdown",
   "metadata": {},
   "source": [
    "# Hierarchical Inheritance\n",
    "10. Task: Create a base class Shape with derived classes Circle and Square. Each class\n",
    "should have a method to calculate the area."
   ]
  },
  {
   "cell_type": "code",
   "execution_count": 10,
   "metadata": {},
   "outputs": [
    {
     "name": "stdout",
     "output_type": "stream",
     "text": [
      "Area of Circle with radius 5 is 78.50\n",
      "Area of Square with side 4 is 16\n"
     ]
    }
   ],
   "source": [
    "class Shape:\n",
    "    def area(self):\n",
    "        raise NotImplementedError(\"area of a generic class is not defined\")\n",
    "\n",
    "class Circle(Shape):\n",
    "    def __init__(self, radius):\n",
    "        self.radius = radius\n",
    "\n",
    "    def area(self):\n",
    "        return 3.14 * (self.radius ** 2)\n",
    "\n",
    "class Square(Shape):\n",
    "    def __init__(self, side):\n",
    "        self.side = side\n",
    "\n",
    "    def area(self):\n",
    "        return self.side ** 2\n",
    "\n",
    "\n",
    "circle = Circle(5)\n",
    "square = Square(4)\n",
    "\n",
    "print(f\"Area of Circle with radius {circle.radius} is {circle.area():.2f}\")\n",
    "print(f\"Area of Square with side {square.side} is {square.area()}\")\n"
   ]
  },
  {
   "cell_type": "markdown",
   "metadata": {},
   "source": [
    "# Multiple Inheritance, Method Resolution Order\n",
    "11. Task: Create two classes Writer and Reader, and a class Author that inherits from both.\n",
    "Implement a method that demonstrates method resolution order.\n",
    "12. Task: Create a class BankAccount with public, protected, and private attributes and\n",
    "demonstrate access to these attributes."
   ]
  },
  {
   "cell_type": "code",
   "execution_count": 11,
   "metadata": {},
   "outputs": [
    {
     "name": "stdout",
     "output_type": "stream",
     "text": [
      "Author working...\n",
      "Writing...\n",
      "Method Resolution Order (MRO): (<class '__main__.Author'>, <class '__main__.Writer'>, <class '__main__.Reader'>, <class 'object'>)\n"
     ]
    }
   ],
   "source": [
    "class Writer:\n",
    "    def work(self):\n",
    "        print(\"Writing...\")\n",
    "\n",
    "class Reader:\n",
    "    def work(self):\n",
    "        print(\"Reading...\")\n",
    "\n",
    "class Author(Writer, Reader):\n",
    "    def work(self):\n",
    "        print(\"Author working...\")\n",
    "        super().work()  # Demonstrates MRO, Writer's work() is called first\n",
    "\n",
    "\n",
    "author = Author()\n",
    "author.work()\n",
    "print(\"Method Resolution Order (MRO):\", Author.__mro__)\n"
   ]
  },
  {
   "cell_type": "code",
   "execution_count": 12,
   "metadata": {},
   "outputs": [
    {
     "name": "stdout",
     "output_type": "stream",
     "text": [
      "Public attribute: Alice\n",
      "Protected attribute: 1000\n",
      "Private attribute (via name mangling): 1234\n",
      "Account Holder: Alice\n",
      "Balance: 1000\n",
      "PIN: 1234\n"
     ]
    }
   ],
   "source": [
    "class BankAccount:\n",
    "    def __init__(self, account_holder, balance, pin):\n",
    "        self.account_holder = account_holder      # public attribute\n",
    "        self._balance = balance                   # protected attribute\n",
    "        self.__pin = pin                         # private attribute\n",
    "\n",
    "    def display(self):\n",
    "        print(f\"Account Holder: {self.account_holder}\")\n",
    "        print(f\"Balance: {self._balance}\")\n",
    "        print(f\"PIN: {self.__pin}\")\n",
    "\n",
    "# Demonstration of attribute access\n",
    "account = BankAccount(\"Alice\", 1000, 1234)\n",
    "\n",
    "# Access public attribute\n",
    "print(\"Public attribute:\", account.account_holder)\n",
    "\n",
    "# Access protected attribute (conventionally discouraged outside the class)\n",
    "print(\"Protected attribute:\", account._balance)\n",
    "\n",
    "# Attempt to access private attribute directly (will raise AttributeError if uncommented)\n",
    "# print(\"Private attribute:\", account.__pin)\n",
    "\n",
    "# Access private attribute via name mangling\n",
    "print(\"Private attribute (via name mangling):\", account._BankAccount__pin)\n",
    "\n",
    "# Use class method to display all attributes\n",
    "account.display()\n"
   ]
  },
  {
   "cell_type": "markdown",
   "metadata": {},
   "source": [
    "# Name Mangling\n",
    "13. Task: Implement a class with a private variable using name mangling and show how to\n",
    "access it."
   ]
  },
  {
   "cell_type": "code",
   "execution_count": 13,
   "metadata": {},
   "outputs": [
    {
     "name": "stdout",
     "output_type": "stream",
     "text": [
      "Access via method: I am private\n",
      "Access via name mangling: I am private\n"
     ]
    }
   ],
   "source": [
    "class MyClass:\n",
    "    def __init__(self):\n",
    "        # This is a private variable\n",
    "        # Using double underscore prefix triggers name mangling in Python\n",
    "        # It helps to avoid accidental access/modification from outside the class\n",
    "        self.__private_var = \"I am private\"\n",
    "\n",
    "    def get_private_var(self):\n",
    "        # Public method to safely access the private variable from outside\n",
    "        return self.__private_var\n",
    "\n",
    "# Create an instance of the class\n",
    "obj = MyClass()\n",
    "\n",
    "# Access the private variable using the public method\n",
    "print(\"Access via method:\", obj.get_private_var())\n",
    "\n",
    "# Attempting to access the private variable directly using obj.__private_var\n",
    "# would raise an AttributeError because it has been name mangled internally.\n",
    "\n",
    "# Access the private variable directly using name mangling:\n",
    "# Python internally changes '__private_var' to '_MyClass__private_var' to make it harder\n",
    "# to access or override accidentally from outside the class.\n",
    "print(\"Access via name mangling:\", obj._MyClass__private_var)\n"
   ]
  },
  {
   "cell_type": "markdown",
   "metadata": {},
   "source": [
    "# Inner/Nested Class\n",
    "14. Task: Create a class Outer with an inner class Inner. Implement a method to\n",
    "demonstrate how to access the inner class."
   ]
  },
  {
   "cell_type": "code",
   "execution_count": 15,
   "metadata": {},
   "outputs": [
    {
     "name": "stdout",
     "output_type": "stream",
     "text": [
      "Hello from the Inner class!\n",
      "Hello from the Inner class!\n"
     ]
    }
   ],
   "source": [
    "class Outer:\n",
    "    # Inner class defined within the Outer class\n",
    "    # Inner classes are used to logically group classes that are only used in one place.\n",
    "    # They can help encapsulate functionality and keep the outer class clean.\n",
    "    class Inner:\n",
    "        def inner_method(self):\n",
    "            # This method can be called from an instance of the Inner class\n",
    "            return \"Hello from the Inner class!\"\n",
    "\n",
    "    def access_inner(self):\n",
    "        # This method demonstrates how to create an instance of the Inner class\n",
    "        inner_instance = self.Inner()  # Create an instance of Inner\n",
    "        # Call the inner class method and return its result\n",
    "        return inner_instance.inner_method()\n",
    "\n",
    "# Demonstrate usage\n",
    "outer = Outer()  # Create an instance of the Outer class\n",
    "print(outer.access_inner())  # Access the inner class method through the outer class\n",
    "\n",
    "# Access Inner class directly from Outer class without needing an Outer instance\n",
    "inner_direct = Outer.Inner()  # Create an instance of Inner directly\n",
    "print(inner_direct.inner_method())  # Call the inner class method directly\n"
   ]
  },
  {
   "cell_type": "markdown",
   "metadata": {},
   "source": [
    "# Association, Aggregation, Composition\n",
    "15. Task: Create a class Library that aggregates Book objects. Implement methods to add\n",
    "and display books."
   ]
  },
  {
   "cell_type": "code",
   "execution_count": 16,
   "metadata": {},
   "outputs": [
    {
     "name": "stdout",
     "output_type": "stream",
     "text": [
      "1984 by George Orwell\n",
      "To Kill a Mockingbird by Harper Lee\n"
     ]
    }
   ],
   "source": [
    "# Aggregation is a relationship where one class (Library) contains references to objects of another class (Book).\n",
    "# This means that the lifecycle of the contained objects (Book) is independent of the container (Library).\n",
    "\n",
    "class Book:\n",
    "    def __init__(self, title, author):\n",
    "        self.title = title\n",
    "        self.author = author\n",
    "\n",
    "    def __str__(self):\n",
    "        return f\"{self.title} by {self.author}\"\n",
    "\n",
    "class Library:\n",
    "    def __init__(self):\n",
    "        self.books = []  # This will hold the Book objects\n",
    "\n",
    "    def add_book(self, book):\n",
    "        \"\"\"Adds a Book object to the library.\"\"\"\n",
    "        self.books.append(book)\n",
    "\n",
    "    def display_books(self):\n",
    "        \"\"\"Displays all books in the library.\"\"\"\n",
    "        for book in self.books:\n",
    "            print(book)\n",
    "\n",
    "library = Library()\n",
    "library.add_book(Book(\"1984\", \"George Orwell\"))\n",
    "library.add_book(Book(\"To Kill a Mockingbird\", \"Harper Lee\"))\n",
    "library.display_books()\n"
   ]
  },
  {
   "cell_type": "markdown",
   "metadata": {},
   "source": [
    "# Polymorphism and Operator Overloading\n",
    "16. Task: Create a class Rectangle and another class Circle. Implement a method area() in\n",
    "both, and create a function that takes both objects and calculates their area."
   ]
  },
  {
   "cell_type": "code",
   "execution_count": 17,
   "metadata": {},
   "outputs": [
    {
     "name": "stdout",
     "output_type": "stream",
     "text": [
      "Rectangle Area: 50\n",
      "Circle Area: 153.93804002589985\n"
     ]
    }
   ],
   "source": [
    "# Polymorphism allows methods to do different things based on the object it is acting upon.\n",
    "# Here, both Rectangle and Circle classes implement the area() method.\n",
    "\n",
    "class Rectangle:\n",
    "    def __init__(self, width, height):\n",
    "        self.width = width\n",
    "        self.height = height\n",
    "\n",
    "    def area(self):\n",
    "        \"\"\"Calculates the area of the rectangle.\"\"\"\n",
    "        return self.width * self.height\n",
    "\n",
    "class Circle:\n",
    "    def __init__(self, radius):\n",
    "        self.radius = radius\n",
    "\n",
    "    def area(self):\n",
    "        \"\"\"Calculates the area of the circle.\"\"\"\n",
    "        import math\n",
    "        return math.pi * (self.radius ** 2)\n",
    "\n",
    "def calculate_area(shape):\n",
    "    \"\"\"Calculates the area of a given shape (Rectangle or Circle).\"\"\"\n",
    "    return shape.area()\n",
    "\n",
    "rectangle = Rectangle(5, 10)\n",
    "circle = Circle(7)\n",
    "print(\"Rectangle Area:\", calculate_area(rectangle))\n",
    "print(\"Circle Area:\", calculate_area(circle))\n"
   ]
  },
  {
   "cell_type": "markdown",
   "metadata": {},
   "source": [
    "# Magic Functions/Dunder Functions\n",
    "17. Task: Implement a class Vector with dunder methods for addition and string\n",
    "representation."
   ]
  },
  {
   "cell_type": "code",
   "execution_count": 18,
   "metadata": {},
   "outputs": [
    {
     "name": "stdout",
     "output_type": "stream",
     "text": [
      "Vector(7, 10)\n"
     ]
    }
   ],
   "source": [
    "# Magic functions (or dunder methods) allow us to define the behavior of operators for our custom classes.\n",
    "\n",
    "class Vector:\n",
    "    def __init__(self, x, y):\n",
    "        self.x = x\n",
    "        self.y = y\n",
    "\n",
    "    def __add__(self, other):\n",
    "        \"\"\"Defines addition for Vector objects.\"\"\"\n",
    "        return Vector(self.x + other.x, self.y + other.y)\n",
    "\n",
    "    def __str__(self):\n",
    "        \"\"\"String representation of the Vector object.\"\"\"\n",
    "        return f\"Vector({self.x}, {self.y})\"\n",
    "\n",
    "# Example usage\n",
    "v1 = Vector(2, 3)\n",
    "v2 = Vector(5, 7)\n",
    "v3 = v1 + v2  # Uses the __add__ method\n",
    "print(v3)  # Output: Vector(7, 10)\n"
   ]
  },
  {
   "cell_type": "markdown",
   "metadata": {},
   "source": [
    "# Dynamic Polymorphism (subclass as base class)\n",
    "18. Task: Create a base class Employee and subclasses FullTimeEmployee and\n",
    "PartTimeEmployee. Implement a method that calculates salary based on the type of\n",
    "employee."
   ]
  },
  {
   "cell_type": "code",
   "execution_count": 19,
   "metadata": {},
   "outputs": [
    {
     "name": "stdout",
     "output_type": "stream",
     "text": [
      "Full-Time Salary: 50000\n",
      "Part-Time Salary: 2000\n"
     ]
    }
   ],
   "source": [
    "# Dynamic polymorphism allows us to use a base class reference to refer to a derived class object.\n",
    "\n",
    "class Employee:\n",
    "    def calculate_salary(self):\n",
    "        \"\"\"Abstract method to calculate salary.\"\"\"\n",
    "        raise NotImplementedError(\"Subclasses must implement this method\")\n",
    "\n",
    "class FullTimeEmployee(Employee):\n",
    "    def __init__(self, salary):\n",
    "        self.salary = salary\n",
    "\n",
    "    def calculate_salary(self):\n",
    "        \"\"\"Calculates salary for full-time employees.\"\"\"\n",
    "        return self.salary\n",
    "\n",
    "class PartTimeEmployee(Employee):\n",
    "    def __init__(self, hourly_rate, hours_worked):\n",
    "        self.hourly_rate = hourly_rate\n",
    "        self.hours_worked = hours_worked\n",
    "\n",
    "    def calculate_salary(self):\n",
    "        \"\"\"Calculates salary for part-time employees.\"\"\"\n",
    "        return self.hourly_rate * self.hours_worked\n",
    "\n",
    "\n",
    "full_time = FullTimeEmployee(50000)\n",
    "part_time = PartTimeEmployee(20, 100)\n",
    "print(\"Full-Time Salary:\", full_time.calculate_salary())\n",
    "print(\"Part-Time Salary:\", part_time.calculate_salary())\n"
   ]
  },
  {
   "cell_type": "markdown",
   "metadata": {},
   "source": [
    "# Abstract Method and Class, Empty Class, Data Class\n",
    "19. Task: Create an abstract class Shape with an abstract method area(). Derive concrete\n",
    "classes Circle and Square."
   ]
  },
  {
   "cell_type": "code",
   "execution_count": 20,
   "metadata": {},
   "outputs": [
    {
     "name": "stdout",
     "output_type": "stream",
     "text": [
      "Area of Circle: 78.54\n",
      "Area of Square: 16\n",
      "Area of Unknown Shape: Cannot calculate area: shape is unknown\n",
      "Data Class - Name: Temperature , Value: 37.5\n",
      "Empty Class Description: This is an empty class with a minimal placeholder\n"
     ]
    }
   ],
   "source": [
    "# Define a base class Shape with a method area that will be overridden\n",
    "# Abstract behavior is simulated via subclassing, not by error raising\n",
    "class Shape:\n",
    "    # This method acts as a placeholder and is meant to be overridden\n",
    "    def area(self):\n",
    "        # Default message indicating that no specific shape is defined\n",
    "        return \"Area not defined for generic shape\"\n",
    "\n",
    "# Subclass for undefined shapes (implements area to avoid error)\n",
    "class UnknownShape(Shape):\n",
    "    def area(self):\n",
    "        # Returns a generic message\n",
    "        return \"Cannot calculate area: shape is unknown\"\n",
    "\n",
    "# Concrete class Circle derived from Shape\n",
    "class Circle(Shape):\n",
    "    def __init__(self, radius):\n",
    "        # Constructor to initialize the radius\n",
    "        self.radius = radius\n",
    "\n",
    "    def area(self):\n",
    "        # Area of a circle = π * r^2\n",
    "        return 3.1416 * self.radius * self.radius\n",
    "\n",
    "# Concrete class Square derived from Shape\n",
    "class Square(Shape):\n",
    "    def __init__(self, side):\n",
    "        # Constructor to initialize the side length\n",
    "        self.side = side\n",
    "\n",
    "    def area(self):\n",
    "        # Area of a square = side^2\n",
    "        return self.side * self.side\n",
    "\n",
    "# Define a class that would be empty but gives it a basic attribute\n",
    "class Empty:\n",
    "    def __init__(self):\n",
    "        self.description = \"This is an empty class with a minimal placeholder\"\n",
    "\n",
    "# Simple data-holding class (simulated data class)\n",
    "class Data:\n",
    "    def __init__(self, name, value):\n",
    "        self.name = name\n",
    "        self.value = value\n",
    "\n",
    "# Create objects for all types and test\n",
    "\n",
    "# Circle with radius 5\n",
    "circle = Circle(5)\n",
    "\n",
    "# Square with side 4\n",
    "square = Square(4)\n",
    "\n",
    "# Unknown shape (example of subclass providing area() instead of error)\n",
    "unknown = UnknownShape()\n",
    "\n",
    "# Empty class instance\n",
    "empty_obj = Empty()\n",
    "\n",
    "# Data class instance\n",
    "data_obj = Data(\"Temperature\", 37.5)\n",
    "\n",
    "# Print all area values\n",
    "print(\"Area of Circle:\", circle.area())     # Expected: ~78.54\n",
    "print(\"Area of Square:\", square.area())     # Expected: 16\n",
    "print(\"Area of Unknown Shape:\", unknown.area())  # Should print a message\n",
    "\n",
    "# Print contents of Data object\n",
    "print(\"Data Class - Name:\", data_obj.name, \", Value:\", data_obj.value)\n",
    "\n",
    "# Print the attribute of the Empty class\n",
    "print(\"Empty Class Description:\", empty_obj.description)\n"
   ]
  },
  {
   "cell_type": "markdown",
   "metadata": {},
   "source": [
    "# Keyword Arguments\n",
    "20. Task: Write a function that accepts keyword arguments to create a user profile and\n",
    "displays the profile information."
   ]
  },
  {
   "cell_type": "code",
   "execution_count": 21,
   "metadata": {},
   "outputs": [
    {
     "name": "stdout",
     "output_type": "stream",
     "text": [
      "User Profile Information:\n",
      "Name: Ali\n",
      "Age: 30\n",
      "City: Lahore\n",
      "Profession: Engineer\n",
      "Email: ali@example.com\n"
     ]
    }
   ],
   "source": [
    "# Define a function that accepts keyword arguments\n",
    "# Keyword arguments allow passing values in key=value form\n",
    "# The double asterisks **kwargs collect all keyword arguments into a dictionary\n",
    "\n",
    "def create_profile(**kwargs):\n",
    "    # Print a title\n",
    "    print(\"User Profile Information:\")\n",
    "\n",
    "    # Loop through the dictionary of keyword arguments\n",
    "    for key, value in kwargs.items():\n",
    "        # Print each key-value pair in a readable format\n",
    "        print(key.capitalize() + \":\", value)\n",
    "\n",
    "# Now call the function with keyword arguments to simulate creating a user profile\n",
    "# We can pass any number of named arguments\n",
    "\n",
    "create_profile(name=\"Ali\", age=30, city=\"Lahore\", profession=\"Engineer\", email=\"ali@example.com\")\n"
   ]
  },
  {
   "cell_type": "code",
   "execution_count": null,
   "metadata": {},
   "outputs": [],
   "source": []
  }
 ],
 "metadata": {
  "kernelspec": {
   "display_name": "base",
   "language": "python",
   "name": "python3"
  },
  "language_info": {
   "codemirror_mode": {
    "name": "ipython",
    "version": 3
   },
   "file_extension": ".py",
   "mimetype": "text/x-python",
   "name": "python",
   "nbconvert_exporter": "python",
   "pygments_lexer": "ipython3",
   "version": "3.12.7"
  }
 },
 "nbformat": 4,
 "nbformat_minor": 2
}
