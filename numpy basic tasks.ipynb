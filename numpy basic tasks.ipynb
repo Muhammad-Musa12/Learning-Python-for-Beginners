{
 "cells": [
  {
   "cell_type": "markdown",
   "metadata": {},
   "source": [
    "# Name: Muhammad Musa \n",
    "# Email: muhammadmusaimran18.10e@gmail.com\n",
    "______________________________________________________________________________________________________________________________________________"
   ]
  },
  {
   "cell_type": "code",
   "execution_count": 2,
   "metadata": {},
   "outputs": [
    {
     "name": "stdout",
     "output_type": "stream",
     "text": [
      "2 (2, 3) int32\n",
      "[[1 2 3]\n",
      " [4 5 6]]\n"
     ]
    }
   ],
   "source": [
    "import numpy as np\n",
    "a = np.array([[1,2,3],[4,5,6]],dtype=np.int32)\n",
    "print(a.ndim, a.shape, a.dtype)\n",
    "print(a)"
   ]
  },
  {
   "cell_type": "markdown",
   "metadata": {},
   "source": [
    "1. Create a 5X2 integer array from a range between 100 to 200 such that the\n",
    "difference between each element is 10 (Hint arange function)"
   ]
  },
  {
   "cell_type": "code",
   "execution_count": 3,
   "metadata": {},
   "outputs": [
    {
     "name": "stdout",
     "output_type": "stream",
     "text": [
      "[100 110 120 130 140 150 160 170 180 190]\n",
      "[[100 110]\n",
      " [120 130]\n",
      " [140 150]\n",
      " [160 170]\n",
      " [180 190]]\n"
     ]
    }
   ],
   "source": [
    "\n",
    "b=np.arange(100,200,10)\n",
    "print(b)\n",
    "b=b.reshape(5,2)\n",
    "print(b)"
   ]
  },
  {
   "cell_type": "markdown",
   "metadata": {},
   "source": [
    "2. Write a NumPy program to create an array of 10 zeros,10 ones, 10 fives"
   ]
  },
  {
   "cell_type": "code",
   "execution_count": 4,
   "metadata": {},
   "outputs": [
    {
     "name": "stdout",
     "output_type": "stream",
     "text": [
      "[0 0 0 0 0 0 0 0 0 0] [1 1 1 1 1 1 1 1 1 1] [5 5 5 5 5 5 5 5 5 5]\n",
      "[0 0 0 0 0 0 0 0 0 0 1 1 1 1 1 1 1 1 1 1 5 5 5 5 5 5 5 5 5 5]\n"
     ]
    }
   ],
   "source": [
    "arr1=np.zeros(10,dtype=int)\n",
    "arr2=np.ones(10,dtype=int)\n",
    "arr3=np.array([5]*10,dtype=int)\n",
    "print(arr1,arr2,arr3)\n",
    "arr4=np.concatenate((arr1,arr2,arr3))\n",
    "print(arr4)"
   ]
  },
  {
   "cell_type": "markdown",
   "metadata": {},
   "source": [
    "3. Write a NumPy program to generate an 4x7 array of random numbers between\n",
    "0 and 1"
   ]
  },
  {
   "cell_type": "code",
   "execution_count": 5,
   "metadata": {},
   "outputs": [
    {
     "name": "stdout",
     "output_type": "stream",
     "text": [
      "[[0 1 0 0 1 1 1]\n",
      " [1 0 0 1 0 0 1]\n",
      " [1 0 1 1 1 1 0]\n",
      " [0 0 1 0 1 0 1]]\n",
      "[[0.05934033 0.90463513 0.30462428 0.58840409 0.80174655 0.80081998\n",
      "  0.93380008]\n",
      " [0.91375091 0.65290655 0.4801557  0.66859838 0.74773694 0.51582411\n",
      "  0.99475216]\n",
      " [0.49414781 0.01283047 0.17904376 0.32507847 0.16379049 0.43341443\n",
      "  0.46003154]\n",
      " [0.42540175 0.09702643 0.69141341 0.37073831 0.81915344 0.0090838\n",
      "  0.81716963]]\n"
     ]
    }
   ],
   "source": [
    "arr2=np.random.randint(0,1+1,size=(4,7))\n",
    "print(arr2)\n",
    "arr3=np.random.rand(4,7)\n",
    "print(arr3)"
   ]
  },
  {
   "cell_type": "markdown",
   "metadata": {},
   "source": [
    "4. Declare the following provided numPy array and print array items the third\n",
    "column from all rows [[11 ,22, 33], [44, 55, 66], [77, 88, 99]]"
   ]
  },
  {
   "cell_type": "code",
   "execution_count": 6,
   "metadata": {},
   "outputs": [
    {
     "name": "stdout",
     "output_type": "stream",
     "text": [
      "[33 66 99]\n"
     ]
    }
   ],
   "source": [
    "arr=np.array([[11 ,22, 33], [44, 55, 66], [77, 88, 99]])\n",
    "print(arr[:,2])"
   ]
  },
  {
   "cell_type": "markdown",
   "metadata": {},
   "source": [
    "5. Return array of odd rows and even columns from below numpy array\n",
    "sampleArray = numpy.array([[3 ,6, 9, 12], [15 ,18, 21, 24], [27 ,30, 33, 36],\n",
    "[39 ,42, 45, 48], [51 ,54, 57, 60]])"
   ]
  },
  {
   "cell_type": "code",
   "execution_count": 7,
   "metadata": {},
   "outputs": [
    {
     "name": "stdout",
     "output_type": "stream",
     "text": [
      "[[ 3  6  9 12]\n",
      " [15 18 21 24]\n",
      " [27 30 33 36]\n",
      " [39 42 45 48]\n",
      " [51 54 57 60]]\n",
      "[[15 21]\n",
      " [39 45]]\n",
      "[[ 6 12]\n",
      " [30 36]\n",
      " [54 60]]\n"
     ]
    }
   ],
   "source": [
    "sampleArray = np.array([[3 ,6, 9, 12], [15 ,18, 21, 24], [27 ,30, 33, 36],\n",
    "[39 ,42, 45, 48], [51 ,54, 57, 60]])\n",
    "print(sampleArray)\n",
    "s=sampleArray[1::2,::2] # if we consider row 1 as 0th index and column 1 as 0th index\n",
    "print(s)\n",
    "\n",
    "s=sampleArray[::2,1::2] # if we consider row 0 as 1 and column 0 as 1 \n",
    "print(s)"
   ]
  },
  {
   "cell_type": "markdown",
   "metadata": {},
   "source": [
    "6. Create a result array by adding the following two NumPy arrays. Next, modify\n",
    "the result array by calculating the square of each element\n",
    "a. arrayOne = numpy.array([[5, 6, 9], [21 ,18, 27]])\n",
    "b. arrayTwo = numpy.array([[15 ,33, 24], [4 ,7, 1]])"
   ]
  },
  {
   "cell_type": "code",
   "execution_count": 16,
   "metadata": {},
   "outputs": [
    {
     "name": "stdout",
     "output_type": "stream",
     "text": [
      "[[20 39 33]\n",
      " [25 25 28]]\n",
      "[[ 400 1521 1089]\n",
      " [ 625  625  784]]\n"
     ]
    }
   ],
   "source": [
    "arrayOne = np.array([[5, 6, 9], [21 ,18, 27]])\n",
    "arrayTwo = np.array([[15 ,33, 24], [4 ,7,1]])\n",
    "result=arrayOne+arrayTwo\n",
    "print(result)\n",
    "result=result**2\n",
    "print(result)"
   ]
  },
  {
   "cell_type": "markdown",
   "metadata": {},
   "source": [
    "7. Print max from axis 0 and min from axis 1 from the following 2-D array\n",
    "sampleArray = numpy.array([[34,43,73],[82,22,12],[53,94,66]])"
   ]
  },
  {
   "cell_type": "code",
   "execution_count": 9,
   "metadata": {},
   "outputs": [
    {
     "name": "stdout",
     "output_type": "stream",
     "text": [
      "max =  [82 94 73]   min =  [34 12 53]\n",
      "[[34 43 73]\n",
      " [82 22 12]\n",
      " [53 94 66]]\n",
      "max index:  [1 2 0]   max index:  [0 2 0]\n"
     ]
    }
   ],
   "source": [
    "sampleArray = np.array([[34,43,73],[82,22,12],[53,94,66]])\n",
    "max=np.max(sampleArray,axis=0)\n",
    "min=np.min(sampleArray,axis=1)\n",
    "max_index=np.argmax(sampleArray,axis=0)\n",
    "min_index=np.argmin(sampleArray,axis=1)\n",
    "print(\"max = \",max,\"  min = \",min)\n",
    "print(sampleArray)\n",
    "print(\"max index: \",max_index,\"  max index: \",min_index)"
   ]
  },
  {
   "cell_type": "markdown",
   "metadata": {},
   "source": [
    "8. Delete the second column from a given array and insert the following new\n",
    "column in its place.\n",
    "a. sampleArray = numpy.array([[34,43,73],[82,22,12],[53,94,66]])\n",
    "b. newColumn = numpy.array([[10,10,10]])"
   ]
  },
  {
   "cell_type": "code",
   "execution_count": 10,
   "metadata": {},
   "outputs": [
    {
     "name": "stdout",
     "output_type": "stream",
     "text": [
      "[[34 10 73]\n",
      " [82 10 12]\n",
      " [53 10 66]]\n"
     ]
    }
   ],
   "source": [
    "sampleArray = np.array([[34,43,73],[82,22,12],[53,94,66]])\n",
    "newColumn = np.array([[10,10,10]])\n",
    "sampleArray=np.delete(sampleArray,1,axis=1)\n",
    "sampleArray= np.insert(sampleArray, 1, newColumn, axis=1)\n",
    "print(sampleArray)"
   ]
  },
  {
   "cell_type": "markdown",
   "metadata": {},
   "source": [
    "9. Print the transpose of the array ([[1,2,3], [4,5,6], [7,8,9]])"
   ]
  },
  {
   "cell_type": "code",
   "execution_count": 11,
   "metadata": {},
   "outputs": [
    {
     "name": "stdout",
     "output_type": "stream",
     "text": [
      "[[1 2 3]\n",
      " [4 5 6]\n",
      " [7 8 9]]\n",
      "[[1 4 7]\n",
      " [2 5 8]\n",
      " [3 6 9]]\n"
     ]
    }
   ],
   "source": [
    "arr=np.array([[1,2,3], [4,5,6], [7,8,9]])\n",
    "print(arr)\n",
    "print(arr.T)"
   ]
  },
  {
   "cell_type": "markdown",
   "metadata": {},
   "source": [
    "10. Convert the following 1D array to a 2D array with 2 rows\n",
    "a. array([ 0, 1, 2, 3, 4, 5, 6, 7, 8, 9])"
   ]
  },
  {
   "cell_type": "code",
   "execution_count": 18,
   "metadata": {},
   "outputs": [
    {
     "name": "stdout",
     "output_type": "stream",
     "text": [
      "[[0 1 2 3 4]\n",
      " [5 6 7 8 9]]\n"
     ]
    }
   ],
   "source": [
    "arr=np.array([ 0, 1, 2, 3, 4, 5, 6, 7, 8, 9])\n",
    "arr=arr.reshape(2,5)\n",
    "print(arr)"
   ]
  },
  {
   "cell_type": "code",
   "execution_count": 13,
   "metadata": {},
   "outputs": [
    {
     "name": "stdout",
     "output_type": "stream",
     "text": [
      "[[0 1 2 3 4]\n",
      " [5 6 7 8 9]]\n"
     ]
    }
   ],
   "source": [
    "arr=np.array([ 0, 1, 2, 3, 4, 5, 6, 7, 8, 9])\n",
    "num_rows = 2\n",
    "num_col=arr.size//num_rows\n",
    "arr=arr.reshape(num_rows,num_col)\n",
    "print(arr)\n"
   ]
  },
  {
   "cell_type": "markdown",
   "metadata": {},
   "source": [
    "11. Create a NumPy array of shape (4, 4) and calculate the sum of all elements,\n",
    "the sum along each row, and the sum along each column."
   ]
  },
  {
   "cell_type": "code",
   "execution_count": 14,
   "metadata": {},
   "outputs": [
    {
     "name": "stdout",
     "output_type": "stream",
     "text": [
      "[[6 7 2 6]\n",
      " [5 4 6 2]\n",
      " [5 1 1 9]\n",
      " [5 3 4 6]]\n",
      "Total sum= 72\n",
      "sum of rows [21 17 16 18]\n",
      "sum of columns [21 15 13 23]\n"
     ]
    }
   ],
   "source": [
    "arr=np.random.randint(1,10,size=(4,4))\n",
    "print(arr)\n",
    "sum=arr.sum()\n",
    "print(\"Total sum=\",sum)\n",
    "sum_rows=arr.sum(axis=1)\n",
    "print(\"sum of rows\",sum_rows)\n",
    "sum_col=arr.sum(axis=0)\n",
    "print(\"sum of columns\",sum_col)"
   ]
  }
 ],
 "metadata": {
  "kernelspec": {
   "display_name": "base",
   "language": "python",
   "name": "python3"
  },
  "language_info": {
   "codemirror_mode": {
    "name": "ipython",
    "version": 3
   },
   "file_extension": ".py",
   "mimetype": "text/x-python",
   "name": "python",
   "nbconvert_exporter": "python",
   "pygments_lexer": "ipython3",
   "version": "3.12.7"
  }
 },
 "nbformat": 4,
 "nbformat_minor": 2
}
