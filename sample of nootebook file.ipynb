{
 "cells": [
  {
   "cell_type": "markdown",
   "metadata": {},
   "source": [
    "# Name: Muhammad Musa \n",
    "# Email: muhammadmusaimran18.10e@gmail.com\n",
    "______________________________________________________________________________________________________________________________________________"
   ]
  },
  {
   "cell_type": "code",
   "execution_count": 1,
   "metadata": {},
   "outputs": [
    {
     "name": "stdout",
     "output_type": "stream",
     "text": [
      "I am  akbar  don\n"
     ]
    }
   ],
   "source": [
    "name = input(\"Hello how are you?\")\n",
    "print(\"I am \",name,\" don\")\n"
   ]
  },
  {
   "cell_type": "markdown",
   "metadata": {},
   "source": [
    "two ** on both ends will make the text bold like in the example below\n",
    "**hello world**\n",
    "one * on both ends will make the text italic like in the example below\n",
    "*italic text hello wolrd*\n",
    "\n",
    "add the markdown all in one extention then use the function like ctrl + b or ctrl + i for bold and italic respectivly\n",
    "\n",
    "it is all to be done ion the **markdown** cell and then press the tick to make it done"
   ]
  }
 ],
 "metadata": {
  "kernelspec": {
   "display_name": "Python 3",
   "language": "python",
   "name": "python3"
  },
  "language_info": {
   "codemirror_mode": {
    "name": "ipython",
    "version": 3
   },
   "file_extension": ".py",
   "mimetype": "text/x-python",
   "name": "python",
   "nbconvert_exporter": "python",
   "pygments_lexer": "ipython3",
   "version": "3.12.7"
  }
 },
 "nbformat": 4,
 "nbformat_minor": 2
}
