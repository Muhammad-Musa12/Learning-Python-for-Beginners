{
  "cells": [
    {
      "cell_type": "markdown",
      "metadata": {},
      "source": [
        "# Name: Muhammad Musa \n",
        "# Email: muhammadmusaimran18.10e@gmail.com\n",
        "______________________________________________________________________________________________________________________________________________"
      ]
    },
    {
      "cell_type": "markdown",
      "metadata": {
        "id": "RLxHHG0HFvwr"
      },
      "source": [
        "# Python starting\n"
      ]
    },
    {
      "cell_type": "markdown",
      "metadata": {
        "id": "NhXQykxAGrNX"
      },
      "source": [
        "program to check if even or odd"
      ]
    },
    {
      "cell_type": "code",
      "execution_count": 14,
      "metadata": {
        "colab": {
          "base_uri": "https://localhost:8080/"
        },
        "id": "bUpBcBrJF3J5",
        "outputId": "c78272c1-5423-45f4-9429-6de29b022991"
      },
      "outputs": [
        {
          "name": "stdout",
          "output_type": "stream",
          "text": [
            "Enter the Number that you want to check as even or as odd: 25\n",
            "Your number is Odd:  25\n"
          ]
        }
      ],
      "source": [
        "var=int(input(\"Enter the Number that you want to check as even or as odd: \"))\n",
        "if var%2==0:\n",
        "  print(\"Your number is Even: \",var )\n",
        "else:\n",
        "  print(\"Your number is Odd: \",var)"
      ]
    },
    {
      "cell_type": "code",
      "execution_count": 15,
      "metadata": {
        "colab": {
          "base_uri": "https://localhost:8080/"
        },
        "id": "MsrYiGr7IEBN",
        "outputId": "7b60b30f-6d49-4e04-9eb3-9f5c36f2185f"
      },
      "outputs": [
        {
          "name": "stdout",
          "output_type": "stream",
          "text": [
            "Even\n"
          ]
        }
      ],
      "source": [
        "iseven=(var%2==0)\n",
        "condi=[\"Even\",\"False\"][iseven]\n",
        "print(condi)"
      ]
    },
    {
      "cell_type": "markdown",
      "metadata": {
        "id": "5wYCL4s2PEzt"
      },
      "source": [
        "code for all the if, elif,else"
      ]
    },
    {
      "cell_type": "code",
      "execution_count": 16,
      "metadata": {
        "colab": {
          "base_uri": "https://localhost:8080/"
        },
        "id": "gTOZGMOvPENz",
        "outputId": "14821898-125a-4f17-ea5c-f2223b6326ed"
      },
      "outputs": [
        {
          "name": "stdout",
          "output_type": "stream",
          "text": [
            "your variable is graeter then 10\n"
          ]
        }
      ],
      "source": [
        "if var>10:\n",
        "  print(\"your variable is graeter then 10\")\n",
        "elif var<10 and var>0:\n",
        "  print(\"your number is less then 10 but greater than 0\")\n",
        "else:\n",
        "  print(\"you entered a negative number\")"
      ]
    },
    {
      "cell_type": "markdown",
      "metadata": {
        "id": "uEOQLeroMG9X"
      },
      "source": [
        "3. Write a program to compute and print the area of a square. The formula to compute the area of square is: area = height * width;  (explain each line in detail)\n"
      ]
    },
    {
      "cell_type": "code",
      "execution_count": 17,
      "metadata": {
        "colab": {
          "base_uri": "https://localhost:8080/"
        },
        "id": "uNRODqUUQJ3l",
        "outputId": "3940f129-0b08-47cd-b09b-8a45519ffd5e"
      },
      "outputs": [
        {
          "name": "stdout",
          "output_type": "stream",
          "text": [
            "Enter the height of the square: 3.2\n",
            "Enter the width of the square: 5.6\n",
            "The area of the square is:  17.919999999999998\n"
          ]
        }
      ],
      "source": [
        "height=float(input(\"Enter the height of the square: \"))\n",
        "width=float(input(\"Enter the width of the square: \"))\n",
        "area=height*width\n",
        "print(\"The area of the square is: \",area)"
      ]
    },
    {
      "cell_type": "markdown",
      "metadata": {
        "id": "3UPi8iXyMZa5"
      },
      "source": [
        "4. Write a program that adds two floating point values and display the sum on the screen (explain each line in detail)\n"
      ]
    },
    {
      "cell_type": "code",
      "execution_count": 18,
      "metadata": {
        "colab": {
          "base_uri": "https://localhost:8080/"
        },
        "id": "OeMZXHzCMPPD",
        "outputId": "4a69ae60-d9e1-4867-f834-03f381982861"
      },
      "outputs": [
        {
          "name": "stdout",
          "output_type": "stream",
          "text": [
            "Enter the 1st Number that you want: 2\n",
            "Enter the 2nd Number that you want: 5\n",
            "the sum of the floating number is= 7.0\n"
          ]
        }
      ],
      "source": [
        "var1=float(input(\"Enter the 1st Number that you want: \"))\n",
        "var2=float(input(\"Enter the 2nd Number that you want: \"))\n",
        "\n",
        "def sum(a,b):\n",
        "    return a+b\n",
        "\n",
        "print(\"the sum of the floating number is=\",sum(var1,var2))"
      ]
    },
    {
      "cell_type": "code",
      "execution_count": 19,
      "metadata": {
        "colab": {
          "base_uri": "https://localhost:8080/"
        },
        "id": "CrmX3-cLMk8_",
        "outputId": "f25cd07a-576d-4aff-c97d-197f354c3068"
      },
      "outputs": [
        {
          "name": "stdout",
          "output_type": "stream",
          "text": [
            "the sum of the floating number is= 7.0\n",
            "the sum of the floating number is= 7.0\n"
          ]
        }
      ],
      "source": [
        "sum=var1+var2\n",
        "print(\"the sum of the floating number is=\",sum)\n",
        "print(\"the sum of the floating number is=\",var1+var2)\n"
      ]
    },
    {
      "cell_type": "markdown",
      "metadata": {
        "id": "HuaNHz9iM5bp"
      },
      "source": [
        "5. Write a program which get inputs numbers from user and computer the sum, average and product of these numbers"
      ]
    },
    {
      "cell_type": "code",
      "execution_count": 20,
      "metadata": {
        "colab": {
          "base_uri": "https://localhost:8080/"
        },
        "id": "ECEgnmJMMz1X",
        "outputId": "21f440a7-89b6-4467-bbdd-3790c288f55a"
      },
      "outputs": [
        {
          "name": "stdout",
          "output_type": "stream",
          "text": [
            "Enter the number:6\n",
            "Enter the number:4\n",
            "Addition: 10\n",
            "Subtraction: 2\n",
            "Multiplication: 24\n",
            "Division: 1.5\n",
            "Floor Division: 1\n",
            "Modulus: 2\n",
            "Exponentiation: 1296\n"
          ]
        }
      ],
      "source": [
        "Num1=int(input(\"Enter the number:\"))\n",
        "Num2=int(input(\"Enter the number:\"))\n",
        "print(\"Addition:\",Num1+Num2)\n",
        "print(\"Subtraction:\",Num1-Num2)\n",
        "print(\"Multiplication:\",Num1*Num2)\n",
        "print(\"Division:\",Num1/Num2)\n",
        "print(\"Floor Division:\",Num1//Num2)\n",
        "print(\"Modulus:\",Num1%Num2)\n",
        "print(\"Exponentiation:\",Num1**Num2)\n",
        "\n",
        "\n"
      ]
    },
    {
      "cell_type": "markdown",
      "metadata": {
        "id": "WGYjr5N3NMC7"
      },
      "source": [
        "6. Write a program to inputs base and heigh of a triangle from the user. Computer the area of triangle and display result on  screen. the formula to computer the area of triangle is:\n",
        "a. Area = ½ *base* height\n"
      ]
    },
    {
      "cell_type": "code",
      "execution_count": 21,
      "metadata": {
        "colab": {
          "base_uri": "https://localhost:8080/"
        },
        "id": "PTKgWsN7NU3T",
        "outputId": "ffc0f24d-6ca6-48d5-cb34-4403d16277a4"
      },
      "outputs": [
        {
          "name": "stdout",
          "output_type": "stream",
          "text": [
            "Enter the base of the trainagle: 9.2\n",
            "Enter the height of the triangle: 10.23\n",
            "the area of the triangle is:  47.058\n"
          ]
        }
      ],
      "source": [
        "base=float(input(\"Enter the base of the trainagle: \"))\n",
        "height=float(input(\"Enter the height of the triangle: \"))\n",
        "\n",
        "area=1/2*base*height\n",
        "print(\"the area of the triangle is: \", area)"
      ]
    },
    {
      "cell_type": "markdown",
      "metadata": {
        "id": "rKdRYmiiNjad"
      },
      "source": [
        "7. Write a program that asks the user to enter the radiusof a circle and then computes and displays the circle’s area. Use the  formula.\n",
        "a. area = P1 × radius × radius\n",
        "b. where P1 is a constant with value of 3.14159. (Note: define a constant macro P1 with #define directive)\n"
      ]
    },
    {
      "cell_type": "code",
      "execution_count": 22,
      "metadata": {
        "colab": {
          "base_uri": "https://localhost:8080/"
        },
        "id": "KMKKDv1BNLxO",
        "outputId": "7afea5f9-60aa-48b8-da07-47897123e94b"
      },
      "outputs": [
        {
          "name": "stdout",
          "output_type": "stream",
          "text": [
            "Enter the Radius of the Circle: 3.5\n",
            "the area of circle is:  38.465\n"
          ]
        }
      ],
      "source": [
        "radius=float(input(\"Enter the Radius of the Circle: \"))\n",
        "PI=3.14\n",
        "area=PI*radius*radius\n",
        "print(\"the area of circle is: \", area)"
      ]
    },
    {
      "cell_type": "markdown",
      "metadata": {
        "id": "ayZcy44ONozk"
      },
      "source": [
        "8. Write a program that displays the ASCII code of the character entered by user\n"
      ]
    },
    {
      "cell_type": "code",
      "execution_count": 23,
      "metadata": {
        "colab": {
          "base_uri": "https://localhost:8080/"
        },
        "id": "N8VeVDD7NhQb",
        "outputId": "918448f3-8d37-4af8-f507-fe985f258b1a"
      },
      "outputs": [
        {
          "name": "stdout",
          "output_type": "stream",
          "text": [
            "enter the charecter to check its ASSCI code: A\n",
            "the ASSCI code of A is 65\n"
          ]
        }
      ],
      "source": [
        "char=input(\"enter the charecter to check its ASSCI code: \")\n",
        "assci=ord(char)\n",
        "print(\"the ASSCI code of\",char,\"is\",assci)"
      ]
    },
    {
      "cell_type": "markdown",
      "metadata": {
        "id": "OYZYI1J7NwFL"
      },
      "source": [
        "9. Write a program that input temperature from user in Celsius and converts it into Fahrenheit. For conversion, use the following  formula:\n",
        "i. F =9/5*C+32\n"
      ]
    },
    {
      "cell_type": "code",
      "execution_count": 24,
      "metadata": {
        "colab": {
          "base_uri": "https://localhost:8080/"
        },
        "id": "7rWB5yHvN4Wv",
        "outputId": "dcddd24f-8ef3-41a4-f6f0-0479b633dfbf"
      },
      "outputs": [
        {
          "name": "stdout",
          "output_type": "stream",
          "text": [
            "Enter the temperature value: 32\n",
            "Converted temperature 89.6 F\n"
          ]
        }
      ],
      "source": [
        "temperature = float(input(\"Enter the temperature value: \"))\n",
        "celsius_to_fahrenheit = temperature * 9/5 + 32\n",
        "print(\"Converted temperature\",celsius_to_fahrenheit,\"F\")\n"
      ]
    },
    {
      "cell_type": "code",
      "execution_count": 25,
      "metadata": {
        "colab": {
          "base_uri": "https://localhost:8080/"
        },
        "id": "eCjRbEarN6tc",
        "outputId": "175aa4ac-3449-45b6-e0c7-687e365bb87b"
      },
      "outputs": [
        {
          "name": "stdout",
          "output_type": "stream",
          "text": [
            "Enter the temperature value: 32\n",
            "Enter the unit (C or F): C\n",
            "Converted temperature 89.6 F\n"
          ]
        }
      ],
      "source": [
        "temperature = float(input(\"Enter the temperature value: \"))\n",
        "unit = input(\"Enter the unit (C or F): \")\n",
        "celsius_to_fahrenheit = temperature * 9/5 + 32\n",
        "fahrenheit_to_celsius = (temperature - 32) * 5/9\n",
        "converted_temperature = (unit == \"C\") * celsius_to_fahrenheit + (unit == \"F\") * fahrenheit_to_celsius\n",
        "result_unit = [\"F\", \"C\"][unit == \"F\"]\n",
        "print(\"Converted temperature\",converted_temperature,result_unit)\n"
      ]
    },
    {
      "cell_type": "code",
      "execution_count": 26,
      "metadata": {
        "colab": {
          "base_uri": "https://localhost:8080/"
        },
        "id": "9C3FbKJON-NY",
        "outputId": "3e1934a7-cd18-4422-e8be-f8d6163811ec"
      },
      "outputs": [
        {
          "name": "stdout",
          "output_type": "stream",
          "text": [
            "Enter the temperature value: 32\n",
            "Enter the unit (C or F): c\n",
            "Converted temperature 89.6 F\n"
          ]
        }
      ],
      "source": [
        "temperature = float(input(\"Enter the temperature value: \"))\n",
        "unit = input(\"Enter the unit (C or F): \")\n",
        "celsius_to_fahrenheit = temperature * 9/5 + 32\n",
        "fahrenheit_to_celsius = (temperature - 32) * 5/9\n",
        "converted_temperature = ((unit == \"C\")or(unit == 'c')) * celsius_to_fahrenheit + ((unit == \"F\")or(unit == 'f')) * fahrenheit_to_celsius\n",
        "if unit == \"F\"or \"f\":\n",
        "    result_unit = \"F\"\n",
        "elif unit == \"C\"or \"c\":\n",
        "    result_unit = \"C\"\n",
        "else:\n",
        "  print(\"invalid Unit\")\n",
        "print(\"Converted temperature\",converted_temperature,result_unit)\n"
      ]
    },
    {
      "cell_type": "markdown",
      "metadata": {
        "id": "j6UuArxJO7Oh"
      },
      "source": [
        "10. Write a program to get the values of three sides of a triangle and calculate its area using the formula. i. area = √s(s − a)(s − b)(s − c) where s = (a + b + c)/2\n"
      ]
    },
    {
      "cell_type": "code",
      "execution_count": 1,
      "metadata": {
        "colab": {
          "base_uri": "https://localhost:8080/"
        },
        "id": "5GPeoduwOCUB",
        "outputId": "3f2703d0-5b00-4a02-a026-8ef1e0db377d"
      },
      "outputs": [
        {
          "name": "stdout",
          "output_type": "stream",
          "text": [
            "The area with math function:  7.937253933193772\n",
            "The area with my calculation:  7.937253933193772\n"
          ]
        }
      ],
      "source": [
        "import math\n",
        "side1=float(input(\"Enter the 1st side of the trainagle: \"))\n",
        "side2=float(input(\"Enter the 2nd side of the triangle: \"))\n",
        "side3=float(input(\"Enter the 3rd side of the trainagle: \"))\n",
        "\n",
        "Sum=(side1+side2+side3)/2\n",
        "Tes=Sum*(Sum-side1)*(Sum-side2)*(Sum-side3)\n",
        "area=math.sqrt(Tes)\n",
        "area2=(Tes)**(1/2)\n",
        "print(\"The area with math function: \",area)\n",
        "print(\"The area with my calculation: \",area2)\n"
      ]
    },
    {
      "cell_type": "markdown",
      "metadata": {
        "id": "IYhY8DJVO_Zh"
      },
      "source": [
        "11. write a program that take kilometes as input and convert in to meters\n"
      ]
    },
    {
      "cell_type": "code",
      "execution_count": 28,
      "metadata": {
        "colab": {
          "base_uri": "https://localhost:8080/"
        },
        "id": "bv8fMtYlPDvj",
        "outputId": "5ab05219-ae74-444e-bbe9-57d8df54c336"
      },
      "outputs": [
        {
          "name": "stdout",
          "output_type": "stream",
          "text": [
            "Enter the distance in Kilometer: 23\n",
            "The distance in KM= 23.0 and in Meter= 23000.0\n"
          ]
        }
      ],
      "source": [
        "km=float(input(\"Enter the distance in Kilometer: \"))\n",
        "meter=km*1000\n",
        "print(\"The distance in KM=\",km,\"and in Meter=\",meter)"
      ]
    },
    {
      "cell_type": "markdown",
      "metadata": {
        "id": "0tl_1kU3PHin"
      },
      "source": [
        "12. write a program that take three digit input from user and print in reverse order for example 123 will be printed as 321."
      ]
    },
    {
      "cell_type": "code",
      "execution_count": 29,
      "metadata": {
        "colab": {
          "base_uri": "https://localhost:8080/"
        },
        "id": "T2JbsHuhPL35",
        "outputId": "6667389b-1c56-4838-8db4-66ebaa6b4840"
      },
      "outputs": [
        {
          "name": "stdout",
          "output_type": "stream",
          "text": [
            "Enter a Three digit number: 123\n",
            "your number: 123  reversed number 321\n"
          ]
        }
      ],
      "source": [
        "num=int(input(\"Enter a Three digit number: \"))\n",
        "if 100 <= num <= 999:\n",
        "        hundreds = num // 100\n",
        "        tens = (num // 10) % 10\n",
        "        units = num % 10\n",
        "        reversed_num = (units * 100) + (tens * 10) + hundreds\n",
        "else:\n",
        "    print(\"You did not entered a Three digits\")\n",
        "\n",
        "print(\"your number:\",num,\" reversed number\",reversed_num)\n"
      ]
    },
    {
      "cell_type": "code",
      "execution_count": 30,
      "metadata": {
        "colab": {
          "base_uri": "https://localhost:8080/"
        },
        "id": "4N21UmFkPQc8",
        "outputId": "84733378-058c-4a96-e973-761f448580fe"
      },
      "outputs": [
        {
          "name": "stdout",
          "output_type": "stream",
          "text": [
            "Enter the Number for its reversal: 123\n",
            "your number: 123  reversed number 321\n"
          ]
        }
      ],
      "source": [
        "num=int(input(\"Enter the Number for its reversal: \"))\n",
        "digitized_num=list(str(num))\n",
        "digitized_num.reverse()\n",
        "reversed_num=int(''.join(digitized_num))\n",
        "print(\"your number:\",num,\" reversed number\",reversed_num)"
      ]
    },
    {
      "cell_type": "markdown",
      "metadata": {
        "id": "b7DDHV_3PPHP"
      },
      "source": [
        "13. write a program that convert inches in to centimeter (centimeter = inch * 2.54)\n"
      ]
    },
    {
      "cell_type": "code",
      "execution_count": 31,
      "metadata": {
        "colab": {
          "base_uri": "https://localhost:8080/"
        },
        "id": "3bk1mrmnPWoa",
        "outputId": "ee5415f3-d27b-48e6-cee4-0c787e2418bb"
      },
      "outputs": [
        {
          "name": "stdout",
          "output_type": "stream",
          "text": [
            "Enter the distance in inch: 6\n",
            "The distance in inch= 6.0 and in centimeter= 15.24\n"
          ]
        }
      ],
      "source": [
        "inch=float(input(\"Enter the distance in inch: \"))\n",
        "cm=inch*2.54\n",
        "print(\"The distance in inch=\",inch,\"and in centimeter=\",cm)"
      ]
    },
    {
      "cell_type": "markdown",
      "metadata": {
        "id": "B6Bh_hdBPbxl"
      },
      "source": [
        "14. write a program interchange the value of two variable with each other."
      ]
    },
    {
      "cell_type": "code",
      "execution_count": 32,
      "metadata": {
        "colab": {
          "base_uri": "https://localhost:8080/"
        },
        "id": "LJ7yTQUJPflh",
        "outputId": "b9f6212a-a350-45ce-cb99-b93322f18347"
      },
      "outputs": [
        {
          "name": "stdout",
          "output_type": "stream",
          "text": [
            "Before:\n",
            "5\n",
            "8\n",
            "After:\n",
            "8\n",
            "5\n"
          ]
        }
      ],
      "source": [
        "a=5\n",
        "b=8\n",
        "print(\"Before:\")\n",
        "print(a)\n",
        "print(b)\n",
        "a,b=b,a\n",
        "print(\"After:\")\n",
        "print(a)\n",
        "print(b)"
      ]
    },
    {
      "cell_type": "code",
      "execution_count": 33,
      "metadata": {
        "colab": {
          "base_uri": "https://localhost:8080/"
        },
        "id": "skNnYziqPhmE",
        "outputId": "8d57f846-df5a-4dd5-da84-68e72fb32a9e"
      },
      "outputs": [
        {
          "name": "stdout",
          "output_type": "stream",
          "text": [
            "Before:\n",
            "5\n",
            "8\n",
            "After:\n",
            "8\n",
            "5\n"
          ]
        }
      ],
      "source": [
        "a=5\n",
        "b=8\n",
        "\n",
        "print(\"Before:\")\n",
        "print(a)\n",
        "print(b)\n",
        "a=a+b\n",
        "b=a-b\n",
        "a=a-b\n",
        "print(\"After:\")\n",
        "print(a)\n",
        "print(b)"
      ]
    },
    {
      "cell_type": "code",
      "execution_count": 34,
      "metadata": {
        "colab": {
          "base_uri": "https://localhost:8080/"
        },
        "id": "nqHHwdmMPkfT",
        "outputId": "fec868eb-7313-4061-d136-158a7e12e983"
      },
      "outputs": [
        {
          "name": "stdout",
          "output_type": "stream",
          "text": [
            "Before:\n",
            "5\n",
            "8\n",
            "After:\n",
            "8\n",
            "5\n"
          ]
        }
      ],
      "source": [
        "a=5\n",
        "b=8\n",
        "print(\"Before:\")\n",
        "print(a)\n",
        "print(b)\n",
        "temp=a\n",
        "a=b\n",
        "b=temp\n",
        "print(\"After:\")\n",
        "print(a)\n",
        "print(b)"
      ]
    },
    {
      "cell_type": "markdown",
      "metadata": {
        "id": "SeswA6_8Pv1F"
      },
      "source": [
        "17. Write a program which calculate the square root of give value if its positive."
      ]
    },
    {
      "cell_type": "code",
      "execution_count": 35,
      "metadata": {
        "colab": {
          "base_uri": "https://localhost:8080/"
        },
        "id": "sFoWypd9Pm_7",
        "outputId": "268a8976-2b74-4c39-dbe1-fb1d04910e42"
      },
      "outputs": [
        {
          "name": "stdout",
          "output_type": "stream",
          "text": [
            "Enter the number that you want the square root of: 23\n",
            "The square root of 23 is 4.795831523312719 with math.sqrt()\n",
            "The square root of 23 is 4.795831523312719 with calculation\n"
          ]
        }
      ],
      "source": [
        "num=int(input(\"Enter the number that you want the square root of: \"))\n",
        "if num>=0:\n",
        "    print(\"The square root of\",num,\"is\",math.sqrt(num),\"with math.sqrt()\")\n",
        "    print(\"The square root of\",num,\"is\",(num)**(1/2),\"with calculation\")\n",
        "else:\n",
        "    print(\"The number is not positive, so there is no real square root.\")\n"
      ]
    },
    {
      "cell_type": "markdown",
      "metadata": {
        "id": "6sQ25GVXP2Nc"
      },
      "source": [
        "18. Write a program that display pass if user given marks greater than 50 otherwise print fail."
      ]
    },
    {
      "cell_type": "code",
      "execution_count": 36,
      "metadata": {
        "colab": {
          "base_uri": "https://localhost:8080/"
        },
        "id": "Ehsc3HLPP45D",
        "outputId": "e5d84442-f712-464d-97cd-e923dd95a35e"
      },
      "outputs": [
        {
          "name": "stdout",
          "output_type": "stream",
          "text": [
            "Enter your marks: 52\n",
            "You passed with 52\n"
          ]
        }
      ],
      "source": [
        "marks=int(input(\"Enter your marks: \"))\n",
        "if marks>50:\n",
        "    print(\"You passed with\",marks)\n",
        "else:\n",
        "    print(\"You failed with\",marks)\n"
      ]
    },
    {
      "cell_type": "markdown",
      "metadata": {
        "id": "UcAcUmmAP9VD"
      },
      "source": [
        "19. Write a program, from if and switch, which display the message that given number is even or odd"
      ]
    },
    {
      "cell_type": "code",
      "execution_count": 37,
      "metadata": {
        "colab": {
          "base_uri": "https://localhost:8080/"
        },
        "id": "P4bZIRxLP99c",
        "outputId": "15de3491-91c0-4e0e-f821-9bbec91245a5"
      },
      "outputs": [
        {
          "name": "stdout",
          "output_type": "stream",
          "text": [
            "Enter the Number that you want to check as even or as odd: 20\n",
            "Your number is Even:  20\n"
          ]
        }
      ],
      "source": [
        "var=int(input(\"Enter the Number that you want to check as even or as odd: \"))\n",
        "if var%2==0:\n",
        "  print(\"Your number is Even: \",var )\n",
        "else:\n",
        "  print(\"Your number is Odd: \",var)"
      ]
    },
    {
      "cell_type": "markdown",
      "metadata": {
        "id": "ppAk9kEnP_yY"
      },
      "source": [
        "20. Write a program which take three number from user and display the maximum number  \n"
      ]
    },
    {
      "cell_type": "code",
      "execution_count": 38,
      "metadata": {
        "colab": {
          "base_uri": "https://localhost:8080/"
        },
        "id": "vJmk0Hz3QB7J",
        "outputId": "9949aec1-b4fd-4902-f3d8-9c6029cbbd1b"
      },
      "outputs": [
        {
          "name": "stdout",
          "output_type": "stream",
          "text": [
            "Enter the 1st number5\n",
            "Enter the 2nd number6\n",
            "Enter the 3rd number4\n",
            "greater= 6\n"
          ]
        }
      ],
      "source": [
        "num1=int(input(\"Enter the 1st number\"))\n",
        "num2=int(input(\"Enter the 2nd number\"))\n",
        "num3=int(input(\"Enter the 3rd number\"))\n",
        "if num1>num2 and num1>num3:\n",
        "    print(\"greater=\",num1)\n",
        "elif num2>num1 and num2>num3:\n",
        "    print(\"greater=\",num2)\n",
        "else:\n",
        "    print(\"greater=\",num3)\n"
      ]
    },
    {
      "cell_type": "markdown",
      "metadata": {
        "id": "iU4JYljGQEvm"
      },
      "source": [
        "21. Write a program perform the different arithmetic operation on two given numbers through both if else and switch statement.\n"
      ]
    },
    {
      "cell_type": "code",
      "execution_count": 39,
      "metadata": {
        "colab": {
          "base_uri": "https://localhost:8080/"
        },
        "id": "uy6IihH_QJnr",
        "outputId": "a9b4a4e8-07be-4e75-edad-c4c239b86d28"
      },
      "outputs": [
        {
          "name": "stdout",
          "output_type": "stream",
          "text": [
            "Enter the number:6\n",
            "Enter the number:8\n",
            "enter the operation that you want to perform:9\n",
            "Invalid operation\n"
          ]
        }
      ],
      "source": [
        "Num1=int(input(\"Enter the number:\"))\n",
        "Num2=int(input(\"Enter the number:\"))\n",
        "operation=input(\"enter the operation that you want to perform:\")\n",
        "if operation==\"+\":\n",
        "    print(\"Addition:\",Num1+Num2)\n",
        "elif operation==\"-\":\n",
        "    print(\"Subtraction:\",Num1-Num2)\n",
        "elif operation=='*':\n",
        "    print(\"Multiplication:\",Num1*Num2)\n",
        "elif operation=='/':\n",
        "    print(\"Division:\",Num1/Num2)\n",
        "elif operation=='//':\n",
        "    print(\"Floor Division:\",Num1//Num2)\n",
        "elif operation=='%':\n",
        "    print(\"Modulus:\",Num1%Num2)\n",
        "elif operation=='**':\n",
        "    print(\"Exponentiation:\",Num1**Num2)\n",
        "else:\n",
        "    print(\"Invalid operation\")\n"
      ]
    },
    {
      "cell_type": "markdown",
      "metadata": {
        "id": "8TQkNLzZQRq2"
      },
      "source": [
        "\n",
        "22. Write a program which take two numbers and find either they are equal to each other or not  \n"
      ]
    },
    {
      "cell_type": "code",
      "execution_count": 40,
      "metadata": {
        "colab": {
          "base_uri": "https://localhost:8080/"
        },
        "id": "0iLAl2uAQT6x",
        "outputId": "32b82432-f695-4c13-c7de-de5f24dbc176"
      },
      "outputs": [
        {
          "name": "stdout",
          "output_type": "stream",
          "text": [
            "Enter the number:5\n",
            "Enter the number:5\n",
            "Both numbers are equal\n"
          ]
        }
      ],
      "source": [
        "Num1=int(input(\"Enter the number:\"))\n",
        "Num2=int(input(\"Enter the number:\"))\n",
        "if Num1==Num2:\n",
        "    print(\"Both numbers are equal\")\n",
        "else:\n",
        "    print(\"Both are not equal\")"
      ]
    },
    {
      "cell_type": "markdown",
      "metadata": {
        "id": "pPYD8Ip5QWnJ"
      },
      "source": [
        "\n",
        "23. Write a program to find that given year is Leap year or not (leap year is divisible by 4)\n"
      ]
    },
    {
      "cell_type": "code",
      "execution_count": 45,
      "metadata": {
        "colab": {
          "base_uri": "https://localhost:8080/"
        },
        "id": "AV_7IF_tQZdr",
        "outputId": "5b52e1bd-4907-4479-d183-63fbef799344"
      },
      "outputs": [
        {
          "name": "stdout",
          "output_type": "stream",
          "text": [
            "Enter the Year you want to check: 2024\n",
            "2024 is a leap year.\n"
          ]
        }
      ],
      "source": [
        "year=int(input(\"Enter the Year you want to check: \"))\n",
        "if year%4==0 and year%100!=0:\n",
        "    print(year, \"is a leap year.\")\n",
        "else:\n",
        "    print(year, \"is not a leap year.\")\n"
      ]
    },
    {
      "cell_type": "markdown",
      "metadata": {
        "id": "JU72RRd8Qb-I"
      },
      "source": [
        "24. Write a program, through both if-else and switch, to find that given alphabet is Vowel or a Consonant."
      ]
    },
    {
      "cell_type": "code",
      "execution_count": 42,
      "metadata": {
        "colab": {
          "base_uri": "https://localhost:8080/"
        },
        "id": "X2zUsB3aQh7M",
        "outputId": "72053f39-66f6-42df-a87c-dca437e574cf"
      },
      "outputs": [
        {
          "name": "stdout",
          "output_type": "stream",
          "text": [
            "Enter the alphabet that you want to check that is a vowel or a consonant: k\n",
            "your alphabet= k\n",
            "it is a consonant\n"
          ]
        }
      ],
      "source": [
        "alphabet=input(\"Enter the alphabet that you want to check that is a vowel or a consonant: \")\n",
        "print(\"your alphabet=\",alphabet)\n",
        "if alphabet in ('a','e','i','o','u','A','E','I','O','U'):\n",
        "    print(\"it is a vowel\")\n",
        "else:\n",
        "    print(\"it is a consonant\")"
      ]
    },
    {
      "cell_type": "markdown",
      "metadata": {
        "id": "EGObcgjRQjJS"
      },
      "source": [
        "25. Write a program, through both if-else and switch, that takes a number from 1 to 7 and display the relevant day of the week.\n"
      ]
    },
    {
      "cell_type": "code",
      "execution_count": 43,
      "metadata": {
        "colab": {
          "base_uri": "https://localhost:8080/"
        },
        "id": "7ATP2C4eQfNR",
        "outputId": "b8776256-c14a-4f4d-e17e-647ecd9a74a5"
      },
      "outputs": [
        {
          "name": "stdout",
          "output_type": "stream",
          "text": [
            "Enter the day of the week to check: 3\n",
            "Wednesday\n"
          ]
        }
      ],
      "source": [
        "day=int(input(\"Enter the day of the week to check: \"))\n",
        "if day==1:\n",
        "    print(\"Monday\")\n",
        "elif day==2:\n",
        "    print(\"Tuesday\")\n",
        "elif day==3:\n",
        "    print(\"Wednesday\")\n",
        "elif day==4:\n",
        "    print(\"Thursday\")\n",
        "elif day==5:\n",
        "    print(\"Friday\")\n",
        "elif day==6:\n",
        "    print(\"Saturday\")\n",
        "elif day==7:\n",
        "    print(\"Sunday\")\n",
        "else:\n",
        "    print(\"Invalid number of the week\")\n"
      ]
    },
    {
      "cell_type": "markdown",
      "metadata": {
        "id": "CP-hMyLqQpDE"
      },
      "source": [
        "26. A school has following rules for grading system:\n",
        "a. Below 25 - F\n",
        "b. 25 to 45 - E\n",
        "c. 45 to 50 - D\n",
        "d. 50 to 60 - C\n",
        "e. 60 to 80 - B\n",
        "f. Above 80 - A\n",
        "Ask user to enter marks and print the corresponding grade.\n"
      ]
    },
    {
      "cell_type": "code",
      "execution_count": 44,
      "metadata": {
        "colab": {
          "base_uri": "https://localhost:8080/"
        },
        "id": "YX97Ze1JQuVH",
        "outputId": "dd1ea5a0-c791-474e-c8d1-284057942931"
      },
      "outputs": [
        {
          "name": "stdout",
          "output_type": "stream",
          "text": [
            "Enter your marks: 86\n",
            "You Grade A at 86\n"
          ]
        }
      ],
      "source": [
        "marks=int(input(\"Enter your marks: \"))\n",
        "if marks<25:\n",
        "    print(\"Your Grade F at\",marks)\n",
        "elif marks>=25 and marks<45:\n",
        "    print(\"You Grade E at\",marks)\n",
        "elif marks>=45 and marks<50:\n",
        "    print(\"You Grade D at\",marks)\n",
        "elif marks>=50 and marks<60:\n",
        "    print(\"You Grade C at\",marks)\n",
        "elif marks>=60 and marks<80:\n",
        "    print(\"You Grade B at\",marks)\n",
        "elif marks>=80 and marks<=100:\n",
        "    print(\"You Grade A at\",marks)\n",
        "else:\n",
        "    print(\"Invalid Marks\",marks)\n"
      ]
    }
  ],
  "metadata": {
    "colab": {
      "provenance": []
    },
    "kernelspec": {
      "display_name": "Python 3",
      "name": "python3"
    },
    "language_info": {
      "codemirror_mode": {
        "name": "ipython",
        "version": 3
      },
      "file_extension": ".py",
      "mimetype": "text/x-python",
      "name": "python",
      "nbconvert_exporter": "python",
      "pygments_lexer": "ipython3",
      "version": "3.12.7"
    }
  },
  "nbformat": 4,
  "nbformat_minor": 0
}
