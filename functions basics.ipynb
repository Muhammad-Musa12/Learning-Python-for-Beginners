{
 "cells": [
  {
   "cell_type": "markdown",
   "metadata": {},
   "source": [
    "# Name: Muhammad Musa \n",
    "# Email: muhammadmusaimran18.10e@gmail.com\n",
    "______________________________________________________________________________________________________________________________________________"
   ]
  },
  {
   "cell_type": "markdown",
   "metadata": {},
   "source": [
    "1. How to get list of parameters name from a function in Python \n",
    "a. Hint: inspect.signature() , inspect.getfullargspec() method \n"
   ]
  },
  {
   "cell_type": "code",
   "execution_count": 57,
   "metadata": {},
   "outputs": [
    {
     "name": "stdout",
     "output_type": "stream",
     "text": [
      "(a, b, c=10)\n",
      "FullArgSpec(args=['a', 'b', 'c'], varargs=None, varkw=None, defaults=(10,), kwonlyargs=[], kwonlydefaults=None, annotations={})\n"
     ]
    }
   ],
   "source": [
    "import inspect\n",
    "\n",
    "def my_function(a, b, c=10):\n",
    "    return a + b + c\n",
    "\n",
    "signature = inspect.signature(my_function)\n",
    "print(signature) \n",
    "print(inspect.getfullargspec(my_function))\n"
   ]
  },
  {
   "cell_type": "markdown",
   "metadata": {},
   "source": [
    "2. Write a Python program to find the power of a number"
   ]
  },
  {
   "cell_type": "code",
   "execution_count": 2,
   "metadata": {},
   "outputs": [
    {
     "name": "stdout",
     "output_type": "stream",
     "text": [
      "5 ^ 2 = 25\n"
     ]
    }
   ],
   "source": [
    "def power(num,pow):\n",
    "    return num**pow\n",
    "\n",
    "num=int(input(\"Enter the number for the power: \"))\n",
    "pow=int(input(\"Enter the number of the power: \"))\n",
    "\n",
    "print(num,\"^\",pow,\"=\",power(num,pow))"
   ]
  },
  {
   "cell_type": "markdown",
   "metadata": {},
   "source": [
    "3. Create a function called add_numbers that takes two integers as arguments and returns\n",
    "their sum."
   ]
  },
  {
   "cell_type": "code",
   "execution_count": 4,
   "metadata": {},
   "outputs": [
    {
     "name": "stdout",
     "output_type": "stream",
     "text": [
      "The sum will be 15\n"
     ]
    }
   ],
   "source": [
    "def add_function(*num):\n",
    "    sum = 0\n",
    "    for i in num:\n",
    "        sum += i\n",
    "        \n",
    "    return sum\n",
    "\n",
    "print(\"The sum will be\",add_function(1,2,3,4,5))"
   ]
  },
  {
   "cell_type": "markdown",
   "metadata": {},
   "source": [
    "4. Write a function named power that takes two arguments: a base and an exponent (with a\n",
    "default exponent of 2). The function should return the result of raising the base to the\n",
    "exponent."
   ]
  },
  {
   "cell_type": "code",
   "execution_count": 6,
   "metadata": {},
   "outputs": [
    {
     "name": "stdout",
     "output_type": "stream",
     "text": [
      "5 ^ 3 = 125\n",
      "5 ^ 2= 25\n"
     ]
    }
   ],
   "source": [
    "def power(num,pow=2):\n",
    "    return num**pow\n",
    "\n",
    "num=int(input(\"Enter the number for the power: \"))\n",
    "pow=int(input(\"Enter the number of the power: \"))\n",
    "\n",
    "\n",
    "print(num,\"^\",pow,\"=\",power(num,pow))\n",
    "print(num,\"^ 2=\",power(num))"
   ]
  },
  {
   "cell_type": "markdown",
   "metadata": {},
   "source": [
    "5. Develop a function called describe_pet that accepts a pet's name and type (e.g., \"dog\",\n",
    "\"cat\") as keyword arguments and prints a description of the pet."
   ]
  },
  {
   "cell_type": "code",
   "execution_count": 8,
   "metadata": {},
   "outputs": [
    {
     "name": "stdout",
     "output_type": "stream",
     "text": [
      "Name: Bella\n",
      "Type: Dog\n",
      "Name: missiy\n",
      "Type: cat\n"
     ]
    }
   ],
   "source": [
    "def describe_pet(name,type):\n",
    "    print(f\"Name: {name}\")\n",
    "    print(f\"Type: {type}\")\n",
    "    \n",
    "describe_pet(\"Bella\",\"Dog\")\n",
    "describe_pet(type=\"cat\",name=\"missiy\")\n",
    "\n",
    "\n",
    "    "
   ]
  },
  {
   "cell_type": "markdown",
   "metadata": {},
   "source": [
    "6. Create a function named calculate_average that can take any number of numerical  arguments and returns their average. \n"
   ]
  },
  {
   "cell_type": "code",
   "execution_count": 9,
   "metadata": {},
   "outputs": [
    {
     "name": "stdout",
     "output_type": "stream",
     "text": [
      "The average is= 3.0\n"
     ]
    }
   ],
   "source": [
    "def calculate_average(*num):\n",
    "    sum=0\n",
    "    for i in num:\n",
    "        sum+=i\n",
    "        \n",
    "    return sum/len(num)\n",
    "\n",
    "print(\"The average is=\",calculate_average(1,2,3,4,5))"
   ]
  },
  {
   "cell_type": "markdown",
   "metadata": {},
   "source": [
    "7. Write a lambda function that takes a list of integers and returns a new list containing only  the even numbers. Use the filter function to achieve this. \n"
   ]
  },
  {
   "cell_type": "code",
   "execution_count": 58,
   "metadata": {},
   "outputs": [
    {
     "name": "stdout",
     "output_type": "stream",
     "text": [
      "hello wordld\n",
      "hi how are you\n",
      "10\n"
     ]
    }
   ],
   "source": [
    "hello=lambda:\"hello wordld\"\n",
    "print(hello())\n",
    "hi=lambda :print(\"hi how are you\")\n",
    "hi()\n",
    "sum = lambda a,b,c,d: a+b+c+d\n",
    "print(sum(1,2,3,4))\n"
   ]
  },
  {
   "cell_type": "code",
   "execution_count": 59,
   "metadata": {},
   "outputs": [
    {
     "name": "stdout",
     "output_type": "stream",
     "text": [
      "22\n",
      "33\n"
     ]
    }
   ],
   "source": [
    "def myfunc(n):\n",
    "  return lambda a : a * n\n",
    "\n",
    "mydoubler = myfunc(2)\n",
    "mytripler = myfunc(3)\n",
    "\n",
    "print(mydoubler(11))\n",
    "print(mytripler(11))"
   ]
  },
  {
   "cell_type": "markdown",
   "metadata": {},
   "source": [
    "8. Implement a recursive function called factorial that takes a non-negative integer and  returns its factorial. \n"
   ]
  },
  {
   "cell_type": "code",
   "execution_count": 2,
   "metadata": {},
   "outputs": [
    {
     "name": "stdout",
     "output_type": "stream",
     "text": [
      "The factorial of 5 is 120\n"
     ]
    }
   ],
   "source": [
    "def factorial(num):\n",
    "    if num<=0:\n",
    "        num1=int(input(\"You have Entered a wrong number. Please enter a positive number:\"))\n",
    "        return factorial(num1)\n",
    "    elif num==1:\n",
    "        return 1\n",
    "    else:\n",
    "        return (num*factorial(num-1))\n",
    "\n",
    "num=int(input(\"Please enter a positive number for factorial:\"))\n",
    "print(\"The factorial of\",num,\"is\",factorial(num))\n",
    "        "
   ]
  },
  {
   "cell_type": "markdown",
   "metadata": {},
   "source": [
    "9. Create a function named apply_function that takes another function and a list as  arguments. It should apply the function to each element in the list and return a new list  with the results. \n"
   ]
  },
  {
   "cell_type": "code",
   "execution_count": 11,
   "metadata": {},
   "outputs": [
    {
     "name": "stdout",
     "output_type": "stream",
     "text": [
      "[1, 4, 9, 16, 25]\n"
     ]
    }
   ],
   "source": [
    "def apply_function(func, lst):\n",
    "    return [func(item) for item in lst]\n",
    "\n",
    "def square(x):\n",
    "    return x * x\n",
    "\n",
    "numbers = [1, 2, 3, 4, 5]\n",
    "result = apply_function(square, numbers)\n",
    "print(result)  \n"
   ]
  },
  {
   "cell_type": "code",
   "execution_count": 21,
   "metadata": {},
   "outputs": [
    {
     "name": "stdout",
     "output_type": "stream",
     "text": [
      "sum= [256, 3125, 46656]\n"
     ]
    }
   ],
   "source": [
    "\n",
    "def Self_power(x):\n",
    "    return x**x\n",
    "\n",
    "def apply_function(func, lst):\n",
    "    return [func(item) for item in lst]\n",
    " \n",
    "mylist=[4,5,6]\n",
    "print(\"tetration=\",apply_function(Self_power,mylist))\n",
    "\n",
    "    "
   ]
  },
  {
   "cell_type": "code",
   "execution_count": 23,
   "metadata": {},
   "outputs": [
    {
     "name": "stdout",
     "output_type": "stream",
     "text": [
      "sum= 15\n"
     ]
    }
   ],
   "source": [
    "def add_numbers(*num):\n",
    "    return sum(num)  # Directly summing all numbers\n",
    "\n",
    "def apply_function(func, lst):\n",
    "    return func(*lst)  # Pass the entire list as arguments\n",
    "\n",
    "mylist = [4, 5, 6]\n",
    "\n",
    "print(\"sum=\", apply_function(add_numbers, mylist))  # Output: sum= 15\n"
   ]
  },
  {
   "cell_type": "code",
   "execution_count": 26,
   "metadata": {},
   "outputs": [
    {
     "name": "stdout",
     "output_type": "stream",
     "text": [
      "sum= 43\n"
     ]
    }
   ],
   "source": [
    "\n",
    "def add_numbers(*num):\n",
    "    sum =0\n",
    "    for i in num:\n",
    "        sum += i\n",
    "        \n",
    "    return sum\n",
    "\n",
    "def apply_function(func, lst):\n",
    "    return func(*lst)\n",
    " \n",
    "mylist=[4,5,6,8,9,4,7]\n",
    "print(\"sum=\",apply_function(add_numbers,mylist))\n",
    "\n",
    "    "
   ]
  },
  {
   "cell_type": "markdown",
   "metadata": {},
   "source": [
    "10. Write a function called outer_function that contains an inner function named  inner_function. The inner function should return a greeting message, and the outer  function should call the inner function and return that message. "
   ]
  },
  {
   "cell_type": "code",
   "execution_count": 33,
   "metadata": {},
   "outputs": [
    {
     "name": "stdout",
     "output_type": "stream",
     "text": [
      "Hello, how are you doing\n",
      "None\n"
     ]
    }
   ],
   "source": [
    "def outer_function():\n",
    "    def inner_function():\n",
    "        print(\"Hello, how are you doing\")\n",
    "    return inner_function\n",
    "out=outer_function()\n",
    "\n",
    "print(out())"
   ]
  },
  {
   "cell_type": "code",
   "execution_count": 34,
   "metadata": {},
   "outputs": [
    {
     "name": "stdout",
     "output_type": "stream",
     "text": [
      "Hello, how are you doing\n"
     ]
    }
   ],
   "source": [
    "def outer_function():\n",
    "    def inner_function():\n",
    "        return \"Hello, how are you doing\"\n",
    "    return inner_function\n",
    "out=outer_function()\n",
    "\n",
    "print(out())"
   ]
  },
  {
   "cell_type": "markdown",
   "metadata": {},
   "source": [
    "11. Develop a function called multiply that takes two parameters (a and b) and returns their  product. Include a docstring that describes what the function does and use type  annotations for the parameters and return value. \n"
   ]
  },
  {
   "cell_type": "code",
   "execution_count": 54,
   "metadata": {},
   "outputs": [
    {
     "name": "stdout",
     "output_type": "stream",
     "text": [
      "<class 'float'>\n",
      "40.0\n"
     ]
    }
   ],
   "source": [
    "def multiply(a:int,b:int)->int:\n",
    "    return a*b\n",
    "\"\"\" this function multiplies two numbers together and returns the product.\"\"\"\n",
    "\n",
    "def multiply_lists(a:list,b:list)->float:\n",
    "    prod=0.0\n",
    "    u=0\n",
    "    for i in a:\n",
    "        prod += i * b[u]\n",
    "        u+=1\n",
    "        if(u==len(b)):\n",
    "            break\n",
    "    return prod\n",
    "    \n",
    "\"\"\"this function will multiply all the elements in the list and give the sum of all the multiplictaion of the list\"\"\"    \n",
    "    \n",
    "a=[5,2]\n",
    "b=[6,5,8]\n",
    "x=5.2\n",
    "y=8.3\n",
    "q=multiply(x,y)\n",
    "print(q)\n",
    "print(type(q))\n",
    "print(multiply_lists(a,b))"
   ]
  }
 ],
 "metadata": {
  "kernelspec": {
   "display_name": "Python 3",
   "language": "python",
   "name": "python3"
  },
  "language_info": {
   "codemirror_mode": {
    "name": "ipython",
    "version": 3
   },
   "file_extension": ".py",
   "mimetype": "text/x-python",
   "name": "python",
   "nbconvert_exporter": "python",
   "pygments_lexer": "ipython3",
   "version": "3.12.7"
  }
 },
 "nbformat": 4,
 "nbformat_minor": 2
}
